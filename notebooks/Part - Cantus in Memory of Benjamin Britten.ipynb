{
 "metadata": {
  "name": "",
  "signature": "sha256:7177323aa4ea3d489a3b9953dca67d73781befa3fbb1ffce6458000cb48f7e39"
 },
 "nbformat": 3,
 "nbformat_minor": 0,
 "worksheets": [
  {
   "cells": [
    {
     "cell_type": "heading",
     "level": 2,
     "metadata": {},
     "source": [
      "Preamble"
     ]
    },
    {
     "cell_type": "markdown",
     "metadata": {},
     "source": [
      "This was taken and slightly adapted from the example section of the abjad documentation. I am not the author of the content (only the porting to noteook format). I have removed all diacritics for now."
     ]
    },
    {
     "cell_type": "code",
     "collapsed": false,
     "input": [
      "import copy\n",
      "from abjad import *\n",
      "%load_ext abjad.ext.ipython"
     ],
     "language": "python",
     "metadata": {},
     "outputs": [],
     "prompt_number": 1
    },
    {
     "cell_type": "markdown",
     "metadata": {},
     "source": [
      "We will add a few imports here and a support function"
     ]
    },
    {
     "cell_type": "code",
     "collapsed": false,
     "input": [
      "def make_part_lilypond_file():\n",
      "   r'''Makes P\u00e4rt LilyPond file.\n",
      "   '''\n",
      "\n",
      "   score_template = PartCantusScoreTemplate()\n",
      "   score = score_template()\n",
      "\n",
      "   add_bell_music_to_score(score)\n",
      "   add_string_music_to_score(score)\n",
      "\n",
      "   apply_bowing_marks(score)\n",
      "   apply_dynamics(score)\n",
      "   apply_expressive_marks(score)\n",
      "   apply_page_breaks(score)\n",
      "   apply_rehearsal_marks(score)\n",
      "   apply_final_bar_lines(score)\n",
      "\n",
      "   configure_score(score)\n",
      "   lilypond_file = lilypondfiletools.make_basic_lilypond_file(score)\n",
      "   configure_lilypond_file(lilypond_file)\n",
      "\n",
      "   return lilypond_file"
     ],
     "language": "python",
     "metadata": {},
     "outputs": [],
     "prompt_number": 2
    },
    {
     "cell_type": "heading",
     "level": 1,
     "metadata": {},
     "source": [
      "Part - Cantus in Memory of Benjamin Britten"
     ]
    },
    {
     "cell_type": "heading",
     "level": 2,
     "metadata": {},
     "source": [
      "The score template"
     ]
    },
    {
     "cell_type": "code",
     "collapsed": false,
     "input": [
      "class PartCantusScoreTemplate(abctools.AbjadObject):\n",
      "   r'''P\u00e4rt Cantus score template.\n",
      "   '''\n",
      "\n",
      "   ### SPECIAL METHODS ###\n",
      "\n",
      "   def __call__(self):\n",
      "       '''Calls score template.\n",
      "\n",
      "       Returns LilyPond file.\n",
      "       '''\n",
      "\n",
      "       # make bell voice and staff\n",
      "       bell_voice = scoretools.Voice(name='Bell Voice')\n",
      "       bell_staff = scoretools.Staff([bell_voice], name='Bell Staff')\n",
      "       clef = indicatortools.Clef('treble')\n",
      "       attach(clef, bell_staff)\n",
      "       bells = instrumenttools.Instrument(\n",
      "           instrument_name='Campana in La',\n",
      "           short_instrument_name='Camp.',\n",
      "           pitch_range='[C4, C6]',\n",
      "           )\n",
      "       attach(bells, bell_staff)\n",
      "       tempo = indicatortools.Tempo((1, 4), (112, 120))\n",
      "       attach(tempo, bell_staff)\n",
      "       time_signature = indicatortools.TimeSignature((6, 4))\n",
      "       attach(time_signature, bell_staff)\n",
      "\n",
      "       # make first violin voice and staff\n",
      "       first_violin_voice = scoretools.Voice(name='First Violin Voice')\n",
      "       first_violin_staff = scoretools.Staff(\n",
      "           [first_violin_voice],\n",
      "           name='First Violin Staff',\n",
      "           )\n",
      "       clef = indicatortools.Clef('treble')\n",
      "       attach(clef, first_violin_staff)\n",
      "       violin = instrumenttools.Violin(\n",
      "           instrument_name_markup='Violin I',\n",
      "           short_instrument_name_markup='Vl. I'\n",
      "           )\n",
      "       attach(violin, first_violin_staff)\n",
      "\n",
      "       # make second violin voice and staff\n",
      "       second_violin_voice = scoretools.Voice(name='Second Violin Voice')\n",
      "       second_violin_staff = scoretools.Staff(\n",
      "           [second_violin_voice],\n",
      "           name='Second Violin Staff',\n",
      "           )\n",
      "       clef = indicatortools.Clef('treble')\n",
      "       attach(clef, second_violin_staff)\n",
      "       violin = instrumenttools.Violin(\n",
      "           instrument_name_markup='Violin II',\n",
      "           short_instrument_name_markup='Vl. II'\n",
      "           )\n",
      "       attach(violin, second_violin_staff)\n",
      "\n",
      "       # make viola voice and staff\n",
      "       viola_voice = scoretools.Voice(name='Viola Voice')\n",
      "       viola_staff = scoretools.Staff([viola_voice], name='Viola Staff')\n",
      "       clef = indicatortools.Clef('alto')\n",
      "       attach(clef, viola_staff)\n",
      "       viola = instrumenttools.Viola()\n",
      "       attach(viola, viola_staff)\n",
      "\n",
      "       # make cello voice and staff\n",
      "       cello_voice = scoretools.Voice(name='Cello Voice')\n",
      "       cello_staff = scoretools.Staff([cello_voice], name='Cello Staff')\n",
      "       clef = indicatortools.Clef('bass')\n",
      "       attach(clef, cello_staff)\n",
      "       cello = instrumenttools.Cello()\n",
      "       attach(cello, cello_staff)\n",
      "\n",
      "       # make bass voice and staff\n",
      "       bass_voice = scoretools.Voice(name='Bass Voice')\n",
      "       bass_staff = scoretools.Staff([bass_voice], name='Bass Staff')\n",
      "       clef = indicatortools.Clef('bass')\n",
      "       attach(clef, bass_staff)\n",
      "       contrabass = instrumenttools.Contrabass(\n",
      "           short_instrument_name_markup='Cb.'\n",
      "           )\n",
      "       attach(contrabass, bass_staff)\n",
      "\n",
      "       # make strings staff group\n",
      "       strings_staff_group = scoretools.StaffGroup([\n",
      "           first_violin_staff,\n",
      "           second_violin_staff,\n",
      "           viola_staff,\n",
      "           cello_staff,\n",
      "           bass_staff,\n",
      "           ],\n",
      "           name='Strings Staff Group',\n",
      "           )\n",
      "\n",
      "       # make score\n",
      "       score = scoretools.Score([\n",
      "           bell_staff,\n",
      "           strings_staff_group,\n",
      "           ],\n",
      "           name='P\u00e4rt Cantus Score'\n",
      "           )\n",
      "\n",
      "       # return P\u00e4rt Cantus score\n",
      "       return score\n"
     ],
     "language": "python",
     "metadata": {},
     "outputs": [],
     "prompt_number": 3
    },
    {
     "cell_type": "heading",
     "level": 2,
     "metadata": {},
     "source": [
      "The bell music"
     ]
    },
    {
     "cell_type": "code",
     "collapsed": false,
     "input": [
      "def add_bell_music_to_score(score):\n",
      "   r'''Adds bell music to score.\n",
      "   '''\n",
      "\n",
      "   bell_voice = score['Bell Voice']\n",
      "\n",
      "   def make_bell_phrase():\n",
      "       phrase = []\n",
      "       for _ in range(3):\n",
      "           phrase.append(scoretools.Measure((6, 4), r\"r2. a'2. \\laissezVibrer\"))\n",
      "           phrase.append(scoretools.Measure((6, 4), 'R1.'))\n",
      "       for _ in range(2):\n",
      "           phrase.append(scoretools.Measure((6, 4), 'R1.'))\n",
      "       return phrase\n",
      "\n",
      "   for _ in range(11):\n",
      "       bell_voice.extend(make_bell_phrase())\n",
      "\n",
      "   for _ in range(19):\n",
      "       bell_voice.append(scoretools.Measure((6, 4), 'R1.'))\n",
      "\n",
      "   bell_voice.append(scoretools.Measure((6,4), r\"a'1. \\laissezVibrer\"))\n"
     ],
     "language": "python",
     "metadata": {},
     "outputs": [],
     "prompt_number": 4
    },
    {
     "cell_type": "heading",
     "level": 2,
     "metadata": {},
     "source": [
      "The string music"
     ]
    },
    {
     "cell_type": "markdown",
     "metadata": {},
     "source": [
      "Creating the music for the strings is a bit more involved, but conceptually falls into two steps. First, we\u2019ll procedurally generate basic pitches and rhythms for all string voices. Then, we\u2019ll make edits to the generated material by hand. The entire process is encapsulated in the following function:"
     ]
    },
    {
     "cell_type": "code",
     "collapsed": false,
     "input": [
      "def add_string_music_to_score(score):\n",
      "   r'''Adds string music to score.\n",
      "   '''\n",
      "\n",
      "   # generate some pitch and rhythm information\n",
      "   pitch_contour_reservoir = create_pitch_contour_reservoir()\n",
      "   shadowed_contour_reservoir = shadow_pitch_contour_reservoir(\n",
      "       pitch_contour_reservoir)\n",
      "   durated_reservoir = durate_pitch_contour_reservoir(\n",
      "       shadowed_contour_reservoir)\n",
      "\n",
      "   # add six dotted-whole notes and the durated contours to each string voice\n",
      "   for instrument_name, descents in durated_reservoir.items():\n",
      "       instrument_voice = score['%s Voice' % instrument_name]\n",
      "       instrument_voice.extend(\"R1. R1. R1. R1. R1. R1.\")\n",
      "       for descent in descents:\n",
      "           instrument_voice.extend(descent)\n",
      "\n",
      "   # apply instrument-specific edits\n",
      "   edit_first_violin_voice(score, durated_reservoir)\n",
      "   edit_second_violin_voice(score, durated_reservoir)\n",
      "   edit_viola_voice(score, durated_reservoir)\n",
      "   edit_cello_voice(score, durated_reservoir)\n",
      "   edit_bass_voice(score, durated_reservoir)\n",
      "\n",
      "   # chop all string parts into 6/4 measures\n",
      "   strings_staff_group = score['Strings Staff Group']\n",
      "   with systemtools.ForbidUpdate(score):\n",
      "       for voice in  iterate(strings_staff_group).by_class(scoretools.Voice):\n",
      "           shards = mutate(voice[:]).split([(6, 4)], cyclic=True)\n",
      "           for shard in shards:\n",
      "               scoretools.Measure((6, 4), shard)\n"
     ],
     "language": "python",
     "metadata": {},
     "outputs": [],
     "prompt_number": 5
    },
    {
     "cell_type": "markdown",
     "metadata": {},
     "source": [
      "The pitch material is the same for all of the strings: a descending a-minor scale, generally decorated with diads. But, each instrument uses a different overall range, with the lower instrument playing slower and slower than the higher instruments, creating a sort of mensuration canon.\n",
      "\n",
      "For each instrument, the descending scale is fragmented into what we\u2019ll call \u201cdescents\u201d. The first descent uses only the first note of that instrument\u2019s scale, while the second descent adds the second note, and the third another. We\u2019ll generate as many descents per instruments as there are pitches in its overall scale:"
     ]
    },
    {
     "cell_type": "code",
     "collapsed": false,
     "input": [
      "def create_pitch_contour_reservoir():\n",
      "   r'''Creates pitch contour reservoir.\n",
      "   '''\n",
      "\n",
      "   scale = tonalanalysistools.Scale('a', 'minor')\n",
      "   pitch_ranges = {\n",
      "       'First Violin': pitchtools.PitchRange('[C4, A6]'),\n",
      "       'Second Violin': pitchtools.PitchRange('[A3, A5]'),\n",
      "       'Viola': pitchtools.PitchRange('[E3, A4]'),\n",
      "       'Cello': pitchtools.PitchRange('[A2, A3]'),\n",
      "       'Bass': pitchtools.PitchRange('[C3, A3]'),\n",
      "   }\n",
      "\n",
      "   reservoir = {}\n",
      "   for instrument_name, pitch_range in pitch_ranges.items():\n",
      "       pitch_set = scale.create_named_pitch_set_in_pitch_range(pitch_range)\n",
      "       pitches = sorted(pitch_set, reverse=True)\n",
      "       pitch_descents = []\n",
      "       for i in range(len(pitches)):\n",
      "           descent = tuple(pitches[:i + 1])\n",
      "           pitch_descents.append(descent)\n",
      "       reservoir[instrument_name] = tuple(pitch_descents)\n",
      "\n",
      "   return reservoir\n"
     ],
     "language": "python",
     "metadata": {},
     "outputs": [],
     "prompt_number": 6
    },
    {
     "cell_type": "markdown",
     "metadata": {},
     "source": [
      "Here\u2019s what the first 10 descents for the first violin look like:"
     ]
    },
    {
     "cell_type": "code",
     "collapsed": false,
     "input": [
      "reservoir = create_pitch_contour_reservoir()\n",
      "for i in range(10):\n",
      "    descent = reservoir['First Violin'][i]\n",
      "    print ' '.join(str(x) for x in descent)"
     ],
     "language": "python",
     "metadata": {},
     "outputs": [
      {
       "output_type": "stream",
       "stream": "stdout",
       "text": [
        "a'''\n",
        "a''' g'''\n",
        "a''' g''' f'''\n",
        "a''' g''' f''' e'''\n",
        "a''' g''' f''' e''' d'''\n",
        "a''' g''' f''' e''' d''' c'''\n",
        "a''' g''' f''' e''' d''' c''' b''\n",
        "a''' g''' f''' e''' d''' c''' b'' a''\n",
        "a''' g''' f''' e''' d''' c''' b'' a'' g''\n",
        "a''' g''' f''' e''' d''' c''' b'' a'' g'' f''\n"
       ]
      }
     ],
     "prompt_number": 7
    },
    {
     "cell_type": "markdown",
     "metadata": {},
     "source": [
      "Next we add diads to all of the descents, except for the viola\u2019s. We\u2019ll use a dictionary as a lookup table, to tell us what interval to add below a given pitch class:"
     ]
    },
    {
     "cell_type": "code",
     "collapsed": false,
     "input": [
      "def shadow_pitch_contour_reservoir(pitch_contour_reservoir):\n",
      "   r'''Shadows pitch contour reservoir.\n",
      "   '''\n",
      "\n",
      "   shadow_pitch_lookup = {\n",
      "       pitchtools.NamedPitchClass('a'): -5, # add a P4 below\n",
      "       pitchtools.NamedPitchClass('g'): -3, # add a m3 below\n",
      "       pitchtools.NamedPitchClass('f'): -1, # add a m2 below\n",
      "       pitchtools.NamedPitchClass('e'): -4, # add a M3 below\n",
      "       pitchtools.NamedPitchClass('d'): -2, # add a M2 below\n",
      "       pitchtools.NamedPitchClass('c'): -3, # add a m3 below\n",
      "       pitchtools.NamedPitchClass('b'): -2, # add a M2 below\n",
      "   }\n",
      "\n",
      "   shadowed_reservoir = {}\n",
      "\n",
      "   for instrument_name, pitch_contours in pitch_contour_reservoir.items():\n",
      "       # The viola does not receive any diads\n",
      "       if instrument_name == 'Viola':\n",
      "           shadowed_reservoir['Viola'] = pitch_contours\n",
      "           continue\n",
      "\n",
      "       shadowed_pitch_contours = []\n",
      "\n",
      "       for pitch_contour in pitch_contours[:-1]:\n",
      "           shadowed_pitch_contour = []\n",
      "           for pitch in pitch_contour:\n",
      "               pitch_class = pitch.named_pitch_class\n",
      "               shadow_pitch = pitch + shadow_pitch_lookup[pitch_class]\n",
      "               diad = (shadow_pitch, pitch)\n",
      "               shadowed_pitch_contour.append(diad)\n",
      "           shadowed_pitch_contours.append(tuple(shadowed_pitch_contour))\n",
      "\n",
      "       # treat the final contour differently: the last note does not become a diad\n",
      "       final_shadowed_pitch_contour = []\n",
      "       for pitch in pitch_contours[-1][:-1]:\n",
      "           pitch_class = pitch.named_pitch_class\n",
      "           shadow_pitch = pitch + shadow_pitch_lookup[pitch_class]\n",
      "           diad = (shadow_pitch, pitch)\n",
      "           final_shadowed_pitch_contour.append(diad)\n",
      "       final_shadowed_pitch_contour.append(pitch_contours[-1][-1])\n",
      "       shadowed_pitch_contours.append(tuple(final_shadowed_pitch_contour))\n",
      "\n",
      "       shadowed_reservoir[instrument_name] = tuple(shadowed_pitch_contours)\n",
      "\n",
      "   return shadowed_reservoir"
     ],
     "language": "python",
     "metadata": {},
     "outputs": [],
     "prompt_number": 8
    },
    {
     "cell_type": "markdown",
     "metadata": {},
     "source": [
      "Finally, we\u2019ll add rhythms to the pitch contours we\u2019ve been constructing. Each string instrument plays twice as slow as the string instrument above it in the score. Additionally, all the strings start with some rests, and use a \u201clong-short\u201d pattern for their rhythms:"
     ]
    },
    {
     "cell_type": "code",
     "collapsed": false,
     "input": [
      "def durate_pitch_contour_reservoir(pitch_contour_reservoir):\n",
      "   r'''Durates pitch contour reservoir.\n",
      "   '''\n",
      "\n",
      "   instrument_names = [\n",
      "       'First Violin',\n",
      "       'Second Violin',\n",
      "       'Viola',\n",
      "       'Cello',\n",
      "       'Bass',\n",
      "       ]\n",
      "\n",
      "   durated_reservoir = {}\n",
      "\n",
      "   for i, instrument_name in enumerate(instrument_names):\n",
      "       long_duration = Duration(1, 2) * pow(2, i)\n",
      "       short_duration = long_duration / 2\n",
      "       rest_duration = long_duration * Multiplier(3, 2)\n",
      "\n",
      "       div = rest_duration // Duration(3, 2)\n",
      "       mod = rest_duration % Duration(3, 2)\n",
      "\n",
      "       initial_rest = scoretools.MultimeasureRest((3, 2)) * div\n",
      "       if mod:\n",
      "           initial_rest += scoretools.make_rests(mod)\n",
      "\n",
      "       durated_contours = [tuple(initial_rest)]\n",
      "\n",
      "       pitch_contours = pitch_contour_reservoir[instrument_name]\n",
      "       durations = [long_duration, short_duration]\n",
      "       counter = 0\n",
      "       for pitch_contour in pitch_contours:\n",
      "           contour = []\n",
      "           for pitch in pitch_contour:\n",
      "               contour.extend(scoretools.make_leaves([pitch], [durations[counter]]))\n",
      "               counter = (counter + 1) % 2\n",
      "           durated_contours.append(tuple(contour))\n",
      "\n",
      "       durated_reservoir[instrument_name] = tuple(durated_contours)\n",
      "\n",
      "   return durated_reservoir"
     ],
     "language": "python",
     "metadata": {},
     "outputs": [],
     "prompt_number": 9
    },
    {
     "cell_type": "markdown",
     "metadata": {},
     "source": [
      "Let\u2019s see what a few of those look like. First, we\u2019ll build the entire reservoir from scratch, so you can see the process:"
     ]
    },
    {
     "cell_type": "code",
     "collapsed": false,
     "input": [
      "pitch_contour_reservoir = create_pitch_contour_reservoir()\n",
      "shadowed_contour_reservoir = shadow_pitch_contour_reservoir(pitch_contour_reservoir)\n",
      "durated_reservoir = durate_pitch_contour_reservoir(shadowed_contour_reservoir)"
     ],
     "language": "python",
     "metadata": {},
     "outputs": [],
     "prompt_number": 10
    },
    {
     "cell_type": "markdown",
     "metadata": {},
     "source": [
      "Then we\u2019ll grab the sub-reservoir for the first violins, taking the first ten descents (which includes the silences we\u2019ve been adding as well). We\u2019ll label each descent with some markup, to distinguish them, throw them into a Staff and give them a 6/4 time signature, just so they line up properly."
     ]
    },
    {
     "cell_type": "code",
     "collapsed": false,
     "input": [
      "descents = durated_reservoir['First Violin'][:10]\n",
      "for i, descent in enumerate(descents[1:], 1):\n",
      "    markup = markuptools.Markup(r'\\rounded-box \\bold {}'.format(i), Up,)\n",
      "    attach(markup, descent[0])"
     ],
     "language": "python",
     "metadata": {},
     "outputs": [],
     "prompt_number": 11
    },
    {
     "cell_type": "code",
     "collapsed": false,
     "input": [
      "staff = Staff(sequencetools.flatten_sequence(descents))\n",
      "time_signature = TimeSignature((6, 4))\n",
      "attach(time_signature, staff)\n",
      "show(staff)"
     ],
     "language": "python",
     "metadata": {},
     "outputs": [
      {
       "metadata": {},
       "output_type": "display_data",
       "png": "[encoded data removed]"
      }
     ],
     "prompt_number": 12
    },
    {
     "cell_type": "markdown",
     "metadata": {},
     "source": [
      "Let\u2019s look at the second violins too:"
     ]
    },
    {
     "cell_type": "code",
     "collapsed": false,
     "input": [
      "descents = durated_reservoir['Second Violin'][:10]\n",
      "for i, descent in enumerate(descents[1:], 1):\n",
      "    markup = markuptools.Markup(r'\\rounded-box \\bold {}'.format(i), Up)\n",
      "    attach(markup, descent[0])"
     ],
     "language": "python",
     "metadata": {},
     "outputs": [],
     "prompt_number": 13
    },
    {
     "cell_type": "code",
     "collapsed": false,
     "input": [
      "staff = Staff(sequencetools.flatten_sequence(descents))\n",
      "time_signature = TimeSignature((6, 4))\n",
      "attach(time_signature, staff)\n",
      "show(staff)"
     ],
     "language": "python",
     "metadata": {},
     "outputs": [
      {
       "metadata": {},
       "output_type": "display_data",
       "png": "[encoded data removed]"
      }
     ],
     "prompt_number": 14
    },
    {
     "cell_type": "markdown",
     "metadata": {},
     "source": [
      "And, last we\u2019ll take a peek at the violas. They have some longer notes, so we\u2019ll split their music cyclically every 3 half notes, just so nothing crosses the bar lines accidentally:"
     ]
    },
    {
     "cell_type": "code",
     "collapsed": false,
     "input": [
      "descents = durated_reservoir['Viola'][:10]\n",
      "for i, descent in enumerate(descents[1:], 1):\n",
      "    markup = markuptools.Markup(\n",
      "        r'\\rounded-box \\bold {}'.format(i),\n",
      "        Up,\n",
      "        )\n",
      "    attach(markup, descent[0])"
     ],
     "language": "python",
     "metadata": {},
     "outputs": [],
     "prompt_number": 15
    },
    {
     "cell_type": "code",
     "collapsed": false,
     "input": [
      "staff = Staff(sequencetools.flatten_sequence(descents))\n",
      "shards = mutate(staff[:]).split([(3, 2)], cyclic=True)\n",
      "time_signature = indicatortools.TimeSignature((6, 4))\n",
      "attach(time_signature, staff)\n",
      "show(staff)"
     ],
     "language": "python",
     "metadata": {},
     "outputs": [
      {
       "metadata": {},
       "output_type": "display_data",
       "png": "[encoded data removed]"
      }
     ],
     "prompt_number": 16
    },
    {
     "cell_type": "markdown",
     "metadata": {},
     "source": [
      "You can see how each part is twice as slow as the previous, and starts a little bit later too."
     ]
    },
    {
     "cell_type": "heading",
     "level": 2,
     "metadata": {},
     "source": [
      "The edits"
     ]
    },
    {
     "cell_type": "code",
     "collapsed": false,
     "input": [
      "def edit_first_violin_voice(score, durated_reservoir):\n",
      "    r'''Edits first violin voice.\n",
      "    '''\n",
      "\n",
      "    voice = score['First Violin Voice']\n",
      "    descents = durated_reservoir['First Violin']\n",
      "    descents = selectiontools.ContiguousSelection(descents)\n",
      "\n",
      "    last_descent = select(descents[-1], contiguous=True)\n",
      "    copied_descent = mutate(last_descent).copy()\n",
      "    voice.extend(copied_descent)\n",
      "\n",
      "    final_sustain_rhythm = [(6, 4)] * 43 + [(1, 2)]\n",
      "    final_sustain_notes = scoretools.make_notes([\"c'\"], final_sustain_rhythm)\n",
      "    voice.extend(final_sustain_notes)\n",
      "    tie = spannertools.Tie()\n",
      "    attach(tie, final_sustain_notes)\n",
      "    voice.extend('r4 r2.')"
     ],
     "language": "python",
     "metadata": {},
     "outputs": [],
     "prompt_number": 17
    },
    {
     "cell_type": "code",
     "collapsed": false,
     "input": [
      "def edit_second_violin_voice(score, durated_reservoir):\n",
      "    r'''Edits second violin voice.\n",
      "    '''\n",
      "\n",
      "    voice = score['Second Violin Voice']\n",
      "    descents = durated_reservoir['Second Violin']\n",
      "\n",
      "    last_descent = select(descents[-1], contiguous=True)\n",
      "    copied_descent = mutate(last_descent).copy()\n",
      "    copied_descent = list(copied_descent)\n",
      "    copied_descent[-1].written_duration = durationtools.Duration(1, 1)\n",
      "    copied_descent.append(scoretools.Note('a2'))\n",
      "    for leaf in copied_descent:\n",
      "        articulation = indicatortools.Articulation('accent')\n",
      "        attach(articulation, leaf)\n",
      "        articulation = indicatortools.Articulation('tenuto')\n",
      "        attach(articulation, leaf)\n",
      "    voice.extend(copied_descent)\n",
      "\n",
      "    final_sustain = []\n",
      "    for _ in range(32):\n",
      "        final_sustain.append(scoretools.Note('a1.'))\n",
      "    final_sustain.append(scoretools.Note('a2'))\n",
      "    articulation = indicatortools.Articulation('accent')\n",
      "    attach(articulation, final_sustain[0])\n",
      "    articulation = indicatortools.Articulation('tenuto')\n",
      "    attach(articulation, final_sustain[0])\n",
      "\n",
      "    voice.extend(final_sustain)\n",
      "    tie = spannertools.Tie()\n",
      "    attach(tie, final_sustain)\n",
      "    voice.extend('r4 r2.')"
     ],
     "language": "python",
     "metadata": {},
     "outputs": [],
     "prompt_number": 18
    },
    {
     "cell_type": "code",
     "collapsed": false,
     "input": [
      "def edit_viola_voice(score, durated_reservoir):\n",
      "    r'''Edits viola voice.\n",
      "    '''\n",
      "\n",
      "    voice = score['Viola Voice']\n",
      "    descents = durated_reservoir['Viola']\n",
      "\n",
      "    for leaf in descents[-1]:\n",
      "        articulation = indicatortools.Articulation('accent')\n",
      "        attach(articulation, leaf)\n",
      "        articulation = indicatortools.Articulation('tenuto')\n",
      "        attach(articulation, leaf)\n",
      "    last_descent = select(descents[-1], contiguous=True)\n",
      "    copied_descent = mutate(last_descent).copy()\n",
      "    for leaf in copied_descent:\n",
      "        if leaf.written_duration == durationtools.Duration(4, 4):\n",
      "            leaf.written_duration = durationtools.Duration(8, 4)\n",
      "        else:\n",
      "            leaf.written_duration = durationtools.Duration(4, 4)\n",
      "    voice.extend(copied_descent)\n",
      "\n",
      "    bridge = scoretools.Note('e1')\n",
      "    articulation = indicatortools.Articulation('tenuto')\n",
      "    attach(articulation, bridge)\n",
      "    articulation = indicatortools.Articulation('accent')\n",
      "    attach(articulation, bridge)\n",
      "    voice.append(bridge)\n",
      "\n",
      "    final_sustain_rhythm = [(6, 4)] * 21 + [(1, 2)]\n",
      "    final_sustain_notes = scoretools.make_notes(['e'], final_sustain_rhythm)\n",
      "    articulation = indicatortools.Articulation('accent')\n",
      "    attach(articulation, final_sustain_notes[0])\n",
      "    articulation = indicatortools.Articulation('tenuto')\n",
      "    attach(articulation, final_sustain_notes[0])\n",
      "    voice.extend(final_sustain_notes)\n",
      "    tie = spannertools.Tie()\n",
      "    attach(tie, final_sustain_notes)\n",
      "    voice.extend('r4 r2.')"
     ],
     "language": "python",
     "metadata": {},
     "outputs": [],
     "prompt_number": 19
    },
    {
     "cell_type": "code",
     "collapsed": false,
     "input": [
      "def edit_cello_voice(score, durated_reservoir):\n",
      "    r'''Edits cello voice.\n",
      "    '''\n",
      "\n",
      "    voice = score['Cello Voice']\n",
      "    descents = durated_reservoir['Cello']\n",
      "\n",
      "    logical_tie = inspect_(voice[-1]).get_logical_tie()\n",
      "    for leaf in logical_tie.leaves:\n",
      "        parent = leaf._get_parentage().parent\n",
      "        index = parent.index(leaf)\n",
      "        parent[index] = scoretools.Chord(['e,', 'a,'], leaf.written_duration)\n",
      "\n",
      "    selection = voice[-len(descents[-1]):]\n",
      "    unison_descent = mutate(selection).copy()\n",
      "    voice.extend(unison_descent)\n",
      "    for chord in unison_descent:\n",
      "        index = inspect_(chord).get_parentage().parent.index(chord)\n",
      "        parent[index] = scoretools.Note(\n",
      "            chord.written_pitches[1], chord.written_duration)\n",
      "        articulation = indicatortools.Articulation('accent')\n",
      "        attach(articulation, parent[index])\n",
      "        articulation = indicatortools.Articulation('tenuto')\n",
      "        attach(articulation, parent[index])\n",
      "\n",
      "    voice.extend('a,1. ~ a,2')\n",
      "    voice.extend('b,1 ~ b,1. ~ b,1.')\n",
      "    voice.extend('a,1. ~ a,1. ~ a,1. ~ a,1. ~ a,1. ~ a,2')\n",
      "    voice.extend('r4 r2.')"
     ],
     "language": "python",
     "metadata": {},
     "outputs": [],
     "prompt_number": 20
    },
    {
     "cell_type": "code",
     "collapsed": false,
     "input": [
      "def edit_bass_voice(score, durated_reservoir):\n",
      "    r'''Edits bass voice.\n",
      "    '''\n",
      "\n",
      "    voice = score['Bass Voice']\n",
      "\n",
      "    voice[-3:] = '<e, e>\\maxima <d, d>\\longa <c, c>\\maxima <b,>\\longa <a,>\\maxima r4 r2.'"
     ],
     "language": "python",
     "metadata": {},
     "outputs": [],
     "prompt_number": 21
    },
    {
     "cell_type": "heading",
     "level": 2,
     "metadata": {},
     "source": [
      "The marks"
     ]
    },
    {
     "cell_type": "markdown",
     "metadata": {},
     "source": [
      "Now we\u2019ll apply various kinds of marks, including dynamics, articulations, bowing indications, expressive instructures, page breaks and rehearsal marks.\n",
      "\n",
      "We\u2019ll start with the bowing marks. This involves creating a piece of custom markup to indicate rebowing. We accomplish this by aggregating together some markuptools.MarkupCommand and markuptools.MusicGlyph objects. The completed markuptools.Markup object is then copied and attached at the correct locations in the score.\n",
      "\n",
      "Why copy it? A Mark can only be attached to a single Component. If we attached the original piece of markup to each of our target components in turn, only the last would actually receive the markup, as it would have be detached from the preceding components.\n",
      "\n",
      "Let\u2019s take a look:"
     ]
    },
    {
     "cell_type": "code",
     "collapsed": false,
     "input": [
      "def apply_bowing_marks(score):\n",
      "    r'''Applies bowing marks to score.\n",
      "    '''\n",
      "\n",
      "    # apply alternating upbow and downbow for first two sounding bars\n",
      "    # of the first violin\n",
      "    for measure in score['First Violin Voice'][6:8]:\n",
      "        for i, chord in enumerate(iterate(measure).by_class(Chord)):\n",
      "            if i % 2 == 0:\n",
      "                articulation = indicatortools.Articulation('downbow')\n",
      "                attach(articulation, chord)\n",
      "            else:\n",
      "                articulation = indicatortools.Articulation('upbow')\n",
      "                attach(articulation, chord)\n",
      "\n",
      "    # create and apply rebowing markup\n",
      "    rebow_markup = markuptools.Markup(\n",
      "        markuptools.MarkupCommand(\n",
      "            'concat', [\n",
      "                markuptools.MusicGlyph('scripts.downbow'),\n",
      "                markuptools.MarkupCommand('hspace', 1),\n",
      "                markuptools.MusicGlyph('scripts.upbow'),\n",
      "            ]))\n",
      "    markup = copy.copy(rebow_markup)\n",
      "    attach(markup, score['First Violin Voice'][64][0])\n",
      "    markup = copy.copy(rebow_markup)\n",
      "    attach(markup, score['Second Violin Voice'][75][0])\n",
      "    markup = copy.copy(rebow_markup)\n",
      "    attach(markup, score['Viola Voice'][86][0])"
     ],
     "language": "python",
     "metadata": {},
     "outputs": [],
     "prompt_number": 22
    },
    {
     "cell_type": "markdown",
     "metadata": {},
     "source": [
      "After dealing with custom markup, applying dynamics is easy. Just instantiate and attach:"
     ]
    },
    {
     "cell_type": "code",
     "collapsed": false,
     "input": [
      "def apply_dynamics(score):\n",
      "    r'''Applies dynamics to score.\n",
      "    '''\n",
      "\n",
      "    voice = score['Bell Voice']\n",
      "    dynamic = indicatortools.Dynamic('ppp')\n",
      "    attach(dynamic, voice[0][1])\n",
      "    dynamic = indicatortools.Dynamic('pp')\n",
      "    attach(dynamic, voice[8][1])\n",
      "    dynamic = indicatortools.Dynamic('p')\n",
      "    attach(dynamic, voice[18][1])\n",
      "    dynamic = indicatortools.Dynamic('mp')\n",
      "    attach(dynamic, voice[26][1])\n",
      "    dynamic = indicatortools.Dynamic('mf')\n",
      "    attach(dynamic, voice[34][1])\n",
      "    dynamic = indicatortools.Dynamic('f')\n",
      "    attach(dynamic, voice[42][1])\n",
      "    dynamic = indicatortools.Dynamic('ff')\n",
      "    attach(dynamic, voice[52][1])\n",
      "    dynamic = indicatortools.Dynamic('fff')\n",
      "    attach(dynamic, voice[60][1])\n",
      "    dynamic = indicatortools.Dynamic('ff')\n",
      "    attach(dynamic, voice[68][1])\n",
      "    dynamic = indicatortools.Dynamic('f')\n",
      "    attach(dynamic, voice[76][1])\n",
      "    dynamic = indicatortools.Dynamic('mf')\n",
      "    attach(dynamic, voice[84][1])\n",
      "    dynamic = indicatortools.Dynamic('pp')\n",
      "    attach(dynamic, voice[-1][0])\n",
      "\n",
      "    voice = score['First Violin Voice']\n",
      "    dynamic = indicatortools.Dynamic('ppp')\n",
      "    attach(dynamic, voice[6][1])\n",
      "    dynamic = indicatortools.Dynamic('pp')\n",
      "    attach(dynamic, voice[15][0])\n",
      "    dynamic = indicatortools.Dynamic('p')\n",
      "    attach(dynamic, voice[22][3])\n",
      "    dynamic = indicatortools.Dynamic('mp')\n",
      "    attach(dynamic, voice[31][0])\n",
      "    dynamic = indicatortools.Dynamic('mf')\n",
      "    attach(dynamic, voice[38][3])\n",
      "    dynamic = indicatortools.Dynamic('f')\n",
      "    attach(dynamic, voice[47][0])\n",
      "    dynamic = indicatortools.Dynamic('ff')\n",
      "    attach(dynamic, voice[55][2])\n",
      "    dynamic = indicatortools.Dynamic('fff')\n",
      "    attach(dynamic, voice[62][2])    \n",
      "\n",
      "    voice = score['Second Violin Voice']\n",
      "    dynamic = indicatortools.Dynamic('pp')\n",
      "    attach(dynamic, voice[7][0])\n",
      "    dynamic = indicatortools.Dynamic('p')\n",
      "    attach(dynamic, voice[12][0])\n",
      "    dynamic = indicatortools.Dynamic('p')\n",
      "    attach(dynamic, voice[16][0])\n",
      "    dynamic = indicatortools.Dynamic('mp')\n",
      "    attach(dynamic, voice[25][1])\n",
      "    dynamic = indicatortools.Dynamic('mf')\n",
      "    attach(dynamic, voice[34][1])\n",
      "    dynamic = indicatortools.Dynamic('f')\n",
      "    attach(dynamic, voice[44][1])\n",
      "    dynamic = indicatortools.Dynamic('ff')\n",
      "    attach(dynamic, voice[54][0])\n",
      "    dynamic = indicatortools.Dynamic('fff')\n",
      "    attach(dynamic, voice[62][1])\n",
      "\n",
      "    voice = score['Viola Voice']\n",
      "    dynamic = indicatortools.Dynamic('p')\n",
      "    attach(dynamic, voice[8][0])\n",
      "    dynamic = indicatortools.Dynamic('mp')\n",
      "    attach(dynamic, voice[19][1])\n",
      "    dynamic = indicatortools.Dynamic('mf')\n",
      "    attach(dynamic, voice[30][0])\n",
      "    dynamic = indicatortools.Dynamic('f')\n",
      "    attach(dynamic, voice[36][0])\n",
      "    dynamic = indicatortools.Dynamic('f')\n",
      "    attach(dynamic, voice[42][0])\n",
      "    dynamic = indicatortools.Dynamic('ff')\n",
      "    attach(dynamic, voice[52][0])\n",
      "    dynamic = indicatortools.Dynamic('fff')\n",
      "    attach(dynamic, voice[62][0])\n",
      "\n",
      "    voice = score['Cello Voice']\n",
      "    dynamic = indicatortools.Dynamic('p')\n",
      "    attach(dynamic, voice[10][0])\n",
      "    dynamic = indicatortools.Dynamic('mp')\n",
      "    attach(dynamic, voice[21][0])\n",
      "    dynamic = indicatortools.Dynamic('mf')\n",
      "    attach(dynamic, voice[31][0])\n",
      "    dynamic = indicatortools.Dynamic('f')\n",
      "    attach(dynamic, voice[43][0])\n",
      "    dynamic = indicatortools.Dynamic('ff')\n",
      "    attach(dynamic, voice[52][1])\n",
      "    dynamic = indicatortools.Dynamic('fff')\n",
      "    attach(dynamic, voice[62][0])\n",
      "\n",
      "    voice = score['Bass Voice']\n",
      "    dynamic = indicatortools.Dynamic('mp')\n",
      "    attach(dynamic, voice[14][0])\n",
      "    dynamic = indicatortools.Dynamic('mf')\n",
      "    attach(dynamic, voice[27][0])\n",
      "    dynamic = indicatortools.Dynamic('f')\n",
      "    attach(dynamic, voice[39][0])\n",
      "    dynamic = indicatortools.Dynamic('ff')\n",
      "    attach(dynamic, voice[51][0])\n",
      "    dynamic = indicatortools.Dynamic('fff')\n",
      "    attach(dynamic, voice[62][0])"
     ],
     "language": "python",
     "metadata": {},
     "outputs": [],
     "prompt_number": 23
    },
    {
     "cell_type": "markdown",
     "metadata": {},
     "source": [
      "We apply expressive marks the same way we applied our dynamics:"
     ]
    },
    {
     "cell_type": "code",
     "collapsed": false,
     "input": [
      "def apply_expressive_marks(score):\n",
      "    r'''Applies expressive marks to score.\n",
      "    '''\n",
      "\n",
      "    voice = score['First Violin Voice']\n",
      "    markup = markuptools.Markup(\n",
      "        r'\\left-column { div. \\line { con sord. } }', Up)\n",
      "    attach(markup, voice[6][1])\n",
      "    markup = markuptools.Markup('sim.', Up)\n",
      "    attach(markup, voice[8][0])\n",
      "    markup = markuptools.Markup('uniti', Up)\n",
      "    attach(markup, voice[58][3])\n",
      "    markup = markuptools.Markup('div.', Up)\n",
      "    attach(markup, voice[59][0])\n",
      "    markup = markuptools.Markup('uniti', Up)\n",
      "    attach(markup, voice[63][3])\n",
      "\n",
      "    voice = score['Second Violin Voice']\n",
      "    markup = markuptools.Markup('div.', Up)\n",
      "    attach(markup, voice[7][0])\n",
      "    markup = markuptools.Markup('uniti', Up)\n",
      "    attach(markup, voice[66][1])\n",
      "    markup = markuptools.Markup('div.', Up)\n",
      "    attach(markup, voice[67][0])\n",
      "    markup = markuptools.Markup('uniti', Up)\n",
      "    attach(markup, voice[74][0])\n",
      "\n",
      "    voice = score['Viola Voice']\n",
      "    markup = markuptools.Markup('sole', Up)\n",
      "    attach(markup, voice[8][0])\n",
      "\n",
      "    voice = score['Cello Voice']\n",
      "    markup = markuptools.Markup('div.', Up)\n",
      "    attach(markup, voice[10][0])\n",
      "    markup = markuptools.Markup('uniti', Up)\n",
      "    attach(markup, voice[74][0])\n",
      "    markup = markuptools.Markup('uniti', Up)\n",
      "    attach(markup, voice[84][1])\n",
      "    markup = markuptools.Markup(r'\\italic { espr. }', Down)\n",
      "    attach(markup, voice[86][0])\n",
      "    markup = markuptools.Markup(r'\\italic { molto espr. }', Down)\n",
      "    attach(markup, voice[88][1])\n",
      "\n",
      "    voice = score['Bass Voice']\n",
      "    markup = markuptools.Markup('div.', Up)\n",
      "    attach(markup, voice[14][0])\n",
      "    markup = markuptools.Markup(r'\\italic { espr. }', Down)\n",
      "    attach(markup, voice[86][0])\n",
      "    mutate(voice[88][:]).split([Duration(1, 1), Duration(1, 2)])\n",
      "    markup = markuptools.Markup(r'\\italic { molto espr. }', Down)\n",
      "    attach(markup, voice[88][1])\n",
      "    markup = markuptools.Markup('uniti', Up)\n",
      "    attach(markup, voice[99][1])\n",
      "\n",
      "    strings_staff_group = score['Strings Staff Group']\n",
      "    for voice in iterate(strings_staff_group).by_class(scoretools.Voice):\n",
      "        markup = markuptools.Markup(r'\\italic { (non dim.) }', Down)\n",
      "        attach(markup, voice[102][0])"
     ],
     "language": "python",
     "metadata": {},
     "outputs": [],
     "prompt_number": 24
    },
    {
     "cell_type": "markdown",
     "metadata": {},
     "source": [
      "We use the indicatortools.LilyPondCommandClass to create LilyPond system breaks, and attach them to measures in the percussion part. After this, our score will break in the exact same places as the original:"
     ]
    },
    {
     "cell_type": "code",
     "collapsed": false,
     "input": [
      "def apply_page_breaks(score):\n",
      "    r'''Applies page breaks to score.\n",
      "    '''\n",
      "\n",
      "    bell_voice = score['Bell Voice']\n",
      "\n",
      "    measure_indices = [\n",
      "        5, 10, 15, 20, 25, 30, 35, 40, 45, 50, 55, 60, 65, 72,\n",
      "        79, 86, 93, 100,\n",
      "        ]\n",
      "\n",
      "    for measure_index in measure_indices:\n",
      "        command = indicatortools.LilyPondCommand('break', 'after')\n",
      "        attach(command, bell_voice[measure_index])"
     ],
     "language": "python",
     "metadata": {},
     "outputs": [],
     "prompt_number": 25
    },
    {
     "cell_type": "markdown",
     "metadata": {},
     "source": [
      "We\u2019ll make the rehearsal marks the exact same way we made our line breaks:"
     ]
    },
    {
     "cell_type": "code",
     "collapsed": false,
     "input": [
      "def apply_rehearsal_marks(score):\n",
      "    r'''Applies rehearsal marks to score.\n",
      "    '''\n",
      "\n",
      "    bell_voice = score['Bell Voice']\n",
      "\n",
      "    measure_indices = [\n",
      "        6, 12, 18, 24, 30, 36, 42, 48, 54, 60, 66, 72, 78, 84,\n",
      "        90, 96, 102,\n",
      "        ]\n",
      "\n",
      "    for measure_index in measure_indices:\n",
      "        command = indicatortools.LilyPondCommand(r'mark \\default', 'before')\n",
      "        attach(command, bell_voice[measure_index])"
     ],
     "language": "python",
     "metadata": {},
     "outputs": [],
     "prompt_number": 26
    },
    {
     "cell_type": "markdown",
     "metadata": {},
     "source": [
      "And then we add our final bar lines. indicatortools.BarLine objects inherit from indicatortools.Mark, so you can probably guess by now how we add them to the score... instantiate and attach:"
     ]
    },
    {
     "cell_type": "code",
     "collapsed": false,
     "input": [
      "def apply_final_bar_lines(score):\n",
      "   r'''Applies final bar lines to score.\n",
      "   '''\n",
      "\n",
      "   for voice in iterate(score).by_class(scoretools.Voice):\n",
      "       bar_line = indicatortools.BarLine('|.')\n",
      "       attach(bar_line, voice[-1])"
     ],
     "language": "python",
     "metadata": {},
     "outputs": [],
     "prompt_number": 27
    },
    {
     "cell_type": "heading",
     "level": 2,
     "metadata": {},
     "source": [
      "The LilyPond file"
     ]
    },
    {
     "cell_type": "markdown",
     "metadata": {},
     "source": [
      "Finally, we create some functions to apply formatting directives to our Score object, then wrap it into a LilyPondFile and apply some more formatting.\n",
      "\n",
      "In our configure_score() functions, we use layouttools.make_spacing_vector() to create the correct Scheme construct to tell LilyPond how to handle vertical space for its staves and staff groups. You should consult LilyPond\u2019s vertical spacing documentation for a complete explanation of what this Scheme code means:"
     ]
    },
    {
     "cell_type": "code",
     "collapsed": false,
     "input": [
      "def configure_lilypond_file(lilypond_file):\n",
      "    r'''Configures LilyPond file.\n",
      "    '''\n",
      "\n",
      "    lilypond_file.global_staff_size = 8\n",
      "\n",
      "    context_block = lilypondfiletools.ContextBlock()\n",
      "    context_block.context_name = r'Staff \\RemoveEmptyStaves'\n",
      "    override(context_block).vertical_axis_group.remove_first = True\n",
      "    lilypond_file.layout_block.items.append(context_block)\n",
      "\n",
      "    slash_separator = indicatortools.LilyPondCommand('slashSeparator')\n",
      "    lilypond_file.paper_block.system_separator_markup = slash_separator\n",
      "\n",
      "    bottom_margin = lilypondfiletools.LilyPondDimension(0.5, 'in')\n",
      "    lilypond_file.paper_block.bottom_margin = bottom_margin\n",
      "\n",
      "    top_margin = lilypondfiletools.LilyPondDimension(0.5, 'in')\n",
      "    lilypond_file.paper_block.top_margin = top_margin\n",
      "\n",
      "    left_margin = lilypondfiletools.LilyPondDimension(0.75, 'in')\n",
      "    lilypond_file.paper_block.left_margin = left_margin\n",
      "\n",
      "    right_margin = lilypondfiletools.LilyPondDimension(0.5, 'in')\n",
      "    lilypond_file.paper_block.right_margin = right_margin\n",
      "\n",
      "    paper_width = lilypondfiletools.LilyPondDimension(5.25, 'in')\n",
      "    lilypond_file.paper_block.paper_width = paper_width\n",
      "\n",
      "    paper_height = lilypondfiletools.LilyPondDimension(7.25, 'in')\n",
      "    lilypond_file.paper_block.paper_height = paper_height\n",
      "\n",
      "    lilypond_file.header_block.composer = markuptools.Markup('Arvo P\u00e4rt')\n",
      "    title = 'Cantus in Memory of Benjamin Britten (1980)'\n",
      "    lilypond_file.header_block.title = markuptools.Markup(title)"
     ],
     "language": "python",
     "metadata": {},
     "outputs": [],
     "prompt_number": 28
    },
    {
     "cell_type": "code",
     "collapsed": false,
     "input": [
      "spacing_vector = layouttools.make_spacing_vector(0, 0, 8, 0)\n",
      "f(spacing_vector)"
     ],
     "language": "python",
     "metadata": {},
     "outputs": [
      {
       "output_type": "stream",
       "stream": "stdout",
       "text": [
        "#'((basic-distance . 0) (minimum-distance . 0) (padding . 8) (stretchability . 0))\n"
       ]
      }
     ],
     "prompt_number": 29
    },
    {
     "cell_type": "code",
     "collapsed": false,
     "input": [
      "def configure_score(score):\n",
      "    r'''Configures score.\n",
      "    '''\n",
      "\n",
      "    spacing_vector = layouttools.make_spacing_vector(0, 0, 8, 0)\n",
      "    override(score).vertical_axis_group.staff_staff_spacing = spacing_vector\n",
      "    override(score).staff_grouper.staff_staff_spacing = spacing_vector\n",
      "    override(score).staff_symbol.thickness = 0.5\n",
      "    set_(score).mark_formatter = schemetools.Scheme('format-mark-box-numbers')"
     ],
     "language": "python",
     "metadata": {},
     "outputs": [],
     "prompt_number": 30
    },
    {
     "cell_type": "markdown",
     "metadata": {},
     "source": [
      "In our configure_lilypond_file() function, we need to construct a ContextBlock definition in order to tell LilyPond to hide empty staves, and additionally to hide empty staves if they appear in the first system:"
     ]
    },
    {
     "cell_type": "markdown",
     "metadata": {},
     "source": [
      "Let\u2019s run our original toplevel function to build the complete score:"
     ]
    },
    {
     "cell_type": "code",
     "collapsed": false,
     "input": [
      "lilypond_file = make_part_lilypond_file()"
     ],
     "language": "python",
     "metadata": {},
     "outputs": [],
     "prompt_number": 31
    },
    {
     "cell_type": "markdown",
     "metadata": {},
     "source": [
      "And here we show it (note this will produce a multi-page/multi-image output):"
     ]
    },
    {
     "cell_type": "code",
     "collapsed": false,
     "input": [
      "show(lilypond_file)"
     ],
     "language": "python",
     "metadata": {},
     "outputs": [
      {
       "metadata": {},
       "output_type": "display_data",
       "png": "[encoded data removed]"
      },
      {
       "metadata": {},
       "output_type": "display_data",
       "png": "[encoded data removed]"
      },
      {
       "metadata": {},
       "output_type": "display_data",
       "png": "[encoded data removed]"
      },
      {
       "metadata": {},
       "output_type": "display_data",
       "png": "[encoded data removed]"
      },
      {
       "metadata": {},
       "output_type": "display_data",
       "png": "[encoded data removed]"
      },
      {
       "metadata": {},
       "output_type": "display_data",
       "png": "[encoded data removed]"
      },
      {
       "metadata": {},
       "output_type": "display_data",
       "png": "[encoded data removed]"
      },
      {
       "metadata": {},
       "output_type": "display_data",
       "png": "[encoded data removed]"
      },
      {
       "metadata": {},
       "output_type": "display_data",
       "png": "[encoded data removed]"
      },
      {
       "metadata": {},
       "output_type": "display_data",
       "png": "[encoded data removed]"
      }
     ],
     "prompt_number": 32
    },
    {
     "cell_type": "code",
     "collapsed": false,
     "input": [],
     "language": "python",
     "metadata": {},
     "outputs": [],
     "prompt_number": 32
    }
   ],
   "metadata": {}
  }
 ]
}