{
 "metadata": {
  "name": "",
  "signature": "sha256:f2c4ea27b6f4b5a6eadf6837a30e283829a7d960523b87bd2f4bea72458eb89b"
 },
 "nbformat": 3,
 "nbformat_minor": 0,
 "worksheets": [
  {
   "cells": [
    {
     "cell_type": "heading",
     "level": 2,
     "metadata": {},
     "source": [
      "Preamble"
     ]
    },
    {
     "cell_type": "markdown",
     "metadata": {},
     "source": [
      "This was taken and slightly adapted from the example section of the abjad documentation. I am not the author of the content (only the porting to notebook format). I have removed all diacritics for now."
     ]
    },
    {
     "cell_type": "code",
     "collapsed": false,
     "input": [
      "from IPython.core.display import Image\n",
      "\n",
      "from abjad import *\n",
      "from abjad.tools import scoretools\n",
      "%run ../src/abjad-nb.py"
     ],
     "language": "python",
     "metadata": {},
     "outputs": [],
     "prompt_number": 1
    },
    {
     "cell_type": "markdown",
     "metadata": {},
     "source": [
      "We will use and extra import here"
     ]
    },
    {
     "cell_type": "code",
     "collapsed": false,
     "input": [
      "from abjad.demos import mozart"
     ],
     "language": "python",
     "metadata": {},
     "outputs": [],
     "prompt_number": 2
    },
    {
     "cell_type": "heading",
     "level": 1,
     "metadata": {},
     "source": [
      "Mozart - Musikalisches Wurfelspiel"
     ]
    },
    {
     "cell_type": "markdown",
     "metadata": {},
     "source": [
      "Mozart\u2019s dice game is a method for aleatorically generating sixteen-measure-long minuets. For each measure, two six-sided dice are rolled, and the sum of the dice used to look up a measure number in one of two tables (one for each half of the minuet). The measure number then locates a single measure from a collection of musical fragments. The fragments are concatenated together, and \u201cmusic\u201d results.\n",
      "\n",
      "Implementing the dice game in a composition environment is somewhat akin to (although also somewhat more complicated than) the ubiquitous hello world program which every programming language uses to demonstrate its basic syntax."
     ]
    },
    {
     "cell_type": "code",
     "collapsed": false,
     "input": [
      "Image(url='http://abjad.mbrsi.org/_images/mozart-tables.png', width=500)"
     ],
     "language": "python",
     "metadata": {},
     "outputs": [
      {
       "html": [
        "<img src=\"http://abjad.mbrsi.org/_images/mozart-tables.png\" width=\"500\"/>"
       ],
       "metadata": {},
       "output_type": "pyout",
       "prompt_number": 4,
       "text": [
        "<IPython.core.display.Image at 0x7f037fc14860>"
       ]
      }
     ],
     "prompt_number": 4
    },
    {
     "cell_type": "heading",
     "level": 2,
     "metadata": {},
     "source": [
      "The materials"
     ]
    },
    {
     "cell_type": "markdown",
     "metadata": {},
     "source": [
      "At the heart of the dice game is a large collection, or corpus, of musical fragments. Each fragment is a single 3/8 measure, consisting of a treble voice and a bass voice. Traditionally, these fragments are stored in a \u201cscore\u201d, or \u201ctable of measures\u201d, and located via two tables of measure numbers, which act as lookups, indexing into that collection.\n",
      "\n",
      "Duplicate measures in the original corpus are common. Notably, the 8th measure - actually a pair of measures represent the first and second alternate ending of the first half of the minuet - are always identical. The last measure of the piece is similarly limited - there are only two possibilities rather than the usual eleven (for the numbers 2 to 12, being all the possible sums of two 6-sided dice).\n",
      "\n",
      "How might we store this corpus compactly?\n",
      "\n",
      "Some basic musical information in Abjad can be stored as strings, rather than actual collections of class instances. Abjad can parse simple LilyPond strings via p, which interprets a subset of LilyPond syntax, and understands basic concepts like notes, chords, rests and skips, as well as beams, slurs, ties, and articulations."
     ]
    },
    {
     "cell_type": "code",
     "collapsed": false,
     "input": [
      "staff = Staff(\"\"\"\n",
      "     c'4 ( d'4 <cs' e'>8 ) -. r8\n",
      "     <g' b' d''>4 ^ \\marcato ~ <g' b' d''>1\n",
      "     \"\"\")\n",
      "f(staff)"
     ],
     "language": "python",
     "metadata": {},
     "outputs": [
      {
       "output_type": "stream",
       "stream": "stdout",
       "text": [
        "\\new Staff {\n",
        "\tc'4 (\n",
        "\td'4\n",
        "\t<cs' e'>8 -\\staccato )\n",
        "\tr8\n",
        "\t<g' b' d''>4 ^\\marcato ~\n",
        "\t<g' b' d''>1\n",
        "}\n"
       ]
      }
     ],
     "prompt_number": 5
    },
    {
     "cell_type": "code",
     "collapsed": false,
     "input": [
      "show(staff)"
     ],
     "language": "python",
     "metadata": {},
     "outputs": [
      {
       "metadata": {},
       "output_type": "display_data",
       "png": "[encoded data removed]"
      }
     ],
     "prompt_number": 6
    },
    {
     "cell_type": "markdown",
     "metadata": {},
     "source": [
      "So, instead of storing our musical information as Abjad components, we\u2019ll represent each fragment in the corpus as a pair of strings: one representing the bass voice contents, and the other representing the treble. This pair of strings can be packaged together into a collection. For this implementation, we\u2019ll package them into a dictionary. Python dictionaries are cheap, and often provide more clarity than lists; the composer does not have to rely on remembering a convention for what data should appear in which position in a list - they can simply label that data semantically. In our musical dictionary, the treble voice will use the key \u2018t\u2019 and the bass voice will use the key \u2018b\u2019."
     ]
    },
    {
     "cell_type": "code",
     "collapsed": false,
     "input": [
      "fragment = {'t': \"g''8 ( e''8 c''8 )\", 'b': '<c e>4 r8'}"
     ],
     "language": "python",
     "metadata": {},
     "outputs": [],
     "prompt_number": 8
    },
    {
     "cell_type": "markdown",
     "metadata": {},
     "source": [
      "Instead of relying on measure number tables to find our fragments - as in the original implementation, we\u2019ll package our fragment dictionaries into a list of lists of fragment dictionaries. That is to say, each of the sixteen measures in the piece will be represented by a list of fragment dictionaries. Furthermore, the 8th measure, which breaks the pattern, will simply be a list of two fragment dictionaries. Structuring our information in this way lets us avoid using measure number tables entirely; Python\u2019s list-indexing affordances will take care of that for us. The complete corpus looks like this:"
     ]
    },
    {
     "cell_type": "code",
     "collapsed": false,
     "input": [
      "def make_mozart_measure_corpus():\n",
      "    r'''Makes Mozart measure corpus.\n",
      "    '''\n",
      "\n",
      "    return [\n",
      "        [\n",
      "            {'b': 'c4 r8', 't': \"e''8 c''8 g'8\"},\n",
      "            {'b': '<c e>4 r8', 't': \"g'8 c''8 e''8\"},\n",
      "            {'b': '<c e>4 r8', 't': \"g''8 ( e''8 c''8 )\"},\n",
      "            {'b': '<c e>4 r8', 't': \"c''16 b'16 c''16 e''16 g'16 c''16\"},\n",
      "            {'b': '<c e>4 r8', 't': \"c'''16 b''16 c'''16 g''16 e''16 c''16\"},\n",
      "            {'b': 'c4 r8', 't': \"e''16 d''16 e''16 g''16 c'''16 g''16\"},\n",
      "            {'b': '<c e>4 r8', 't': \"g''8 f''16 e''16 d''16 c''16\"},\n",
      "            {'b': '<c e>4 r8', 't': \"e''16 c''16 g''16 e''16 c'''16 g''16\"},\n",
      "            {'b': '<c e>16 g16 <c e>16 g16 <c e>16 g16', 't': \"c''8 g'8 e''8\"},\n",
      "            {'b': '<c e>4 r8', 't': \"g''8 c''8 e''8\"},\n",
      "            {'b': 'c8 c8 c8', 't': \"<e' c''>8 <e' c''>8 <e' c''>8\"},\n",
      "        ],\n",
      "        [\n",
      "            {'b': 'c4 r8', 't': \"e''8 c''8 g'8\"},\n",
      "            {'b': '<c e>4 r8', 't': \"g'8 c''8 e''8\"},\n",
      "            {'b': '<c e>4 r8', 't': \"g''8 e''8 c''8\"},\n",
      "            {'b': '<e g>4 r8', 't': \"c''16 g'16 c''16 e''16 g'16 c''16\"},\n",
      "            {'b': '<c e>4 r8', 't': \"c'''16 b''16 c'''16 g''16 e''16 c''16\"},\n",
      "            {'b': 'c4 r8', 't': \"e''16 d''16 e''16 g''16 c'''16 g''16\"},\n",
      "            {'b': '<c e>4 r8', 't': \"g''8 f''16 e''16 d''16 c''16\"},\n",
      "            {'b': '<c e>4 r8', 't': \"c''16 g'16 e''16 c''16 g''16 e''16\"},\n",
      "            {'b': '<c e>4 r8', 't': \"c''8 g'8 e''8\"},\n",
      "            {'b': '<c e>4 <c g>8', 't': \"g''8 c''8 e''8\"},\n",
      "            {'b': 'c8 c8 c8', 't': \"<e' c''>8 <e' c''>8 <e' c''>8\"},\n",
      "        ],\n",
      "        [\n",
      "            {'b': '<b, g>4 g,8', 't': \"d''16 e''16 f''16 d''16 c''16 b'16\"},\n",
      "            {'b': 'g,4 r8', 't': \"b'8 d''8 g''8\"},\n",
      "            {'b': 'g,4 r8', 't': \"b'8 d''16 b'16 a'16 g'16\"},\n",
      "            {'b': '<g b>4 r8', 't': \"f''8 d''8 b'8\"},\n",
      "            {'b': '<b, d>4 r8', 't': \"g''16 fs''16 g''16 d''16 b'16 g'16\"},\n",
      "            {'b': '<g b>4 r8', 't': \"f''16 e''16 f''16 d''16 c''16 b'16\"},\n",
      "            {'b': '<g, g>4 <b, g>8',\n",
      "                't': \"b'16 c''16 d''16 e''16 f''16 d''16\"},\n",
      "            {'b': 'g8 g8 g8', 't': \"<b' d''>8 <b' d''>8 <b' d''>8\"},\n",
      "            {'b': 'g,4 r8', 't': \"b'16 c''16 d''16 b'16 a'16 g'16\"},\n",
      "            {'b': 'b,4 r8', 't': \"d''8 ( b'8 g'8 )\"},\n",
      "            {'b': 'g4 r8', 't': \"b'16 a'16 b'16 c''16 d''16 b'16\"},\n",
      "        ],\n",
      "        [\n",
      "            {'b': '<c e>4 r8', 't': \"c''16 b'16 c''16 e''16 g'8\"},\n",
      "            {'b': 'c4 r8', 't': \"e''16 c''16 b'16 c''16 g'8\"},\n",
      "            {'b': '<e g>4 r8', 't': \"c''8 ( g'8 e'8 )\"},\n",
      "            {'b': '<e g>4 r8', 't': \"c''8 e''8 g'8\"},\n",
      "            {'b': '<e g>4 r8', 't': \"c''16 b'16 c''16 g'16 e'16 c'16\"},\n",
      "            {'b': '<c e>4 r8', 't': \"c''8 c''16 d''16 e''8\"},\n",
      "            {'b': 'c4 r8',\n",
      "                't': \"<c'' e''>8 <c'' e''>16 <d'' f''>16 <e'' g''>8\"},\n",
      "            {'b': '<e g>4 r8', 't': \"c''8 e''16 c''16 g'8\"},\n",
      "            {'b': '<e g>4 r8', 't': \"c''16 g'16 e''16 c''16 g''8\"},\n",
      "            {'b': '<e g>4 r8', 't': \"c''8 e''16 c''16 g''8\"},\n",
      "            {'b': '<e g>4 r8', 't': \"c''16 e''16 c''16 g'16 e'8\"},\n",
      "        ],\n",
      "        [\n",
      "            {'b': 'c4 r8', 't': \"fs''8 a''16 fs''16 d''16 fs''16\"},\n",
      "            {'b': 'c8 c8 c8', 't': \"<fs' d''>8 <d'' fs''>8 <fs'' a''>8\"},\n",
      "            {'b': 'c4 r8', 't': \"d''16 a'16 fs''16 d''16 a''16 fs''16\"},\n",
      "            {'b': 'c8 c8 c8', 't': \"<fs' d''>8 <fs' d''>8 <fs' d''>8\"},\n",
      "            {'b': 'c4 r8', 't': \"d''8 a'8 ^\\\\turn fs''8\"},\n",
      "            {'b': 'c4 r8', 't': \"d''16 cs''16 d''16 fs''16 a''16 fs''16\"},\n",
      "            {'b': '<c a>4 <c a>8', 't': \"fs''8 a''8 d''8\"},\n",
      "            {'b': '<c fs>8 <c fs>8 <c a>8', 't': \"a'8 a'16 d''16 fs''8\"},\n",
      "            {'b': 'c8 c8 c8', 't': \"<d'' fs''>8 <d'' fs''>8 <d'' fs''>8\"},\n",
      "            {'b': '<c d>8 <c d>8 <c d>8', 't': \"fs''8 fs''16 d''16 a''8\"},\n",
      "            {'b': '<c a>4 r8', 't': \"fs''16 d''16 a'16 a''16 fs''16 d''16\"},\n",
      "        ],\n",
      "        [\n",
      "            {'b': '<b, d>8 <b, d>8 <b, d>8',\n",
      "                't': \"g''16 fs''16 g''16 b''16 d''8\"},\n",
      "            {'b': '<b, d>4 r8', 't': \"g''8 b''16 g''16 d''16 b'16\"},\n",
      "            {'b': '<b, d>4 r8', 't': \"g''8 b''8 d''8\"},\n",
      "            {'b': '<b, g>4 r8', 't': \"a'8 fs'16 g'16 b'16 g''16\"},\n",
      "            {'b': '<b, d>4 <b, g>8',\n",
      "                't': \"g''16 fs''16 g''16 d''16 b'16 g'16\"},\n",
      "            {'b': 'b,4 r8', 't': \"g''8 b''16 g''16 d''16 g''16\"},\n",
      "            {'b': '<b, g>4 r8', 't': \"d''8 g''16 d''16 b'16 d''16\"},\n",
      "            {'b': '<b, g>4 r8', 't': \"d''8 d''16 g''16 b''8\"},\n",
      "            {'b': '<b, d>8 <b, d>8 <b, g>8',\n",
      "                't': \"a''16 g''16 fs''16 g''16 d''8\"},\n",
      "            {'b': '<b, d>4 r8', 't': \"g''8 g''16 d''16 b''8\"},\n",
      "            {'b': '<b, d>4 r8', 't': \"g''16 b''16 g''16 d''16 b'8\"},\n",
      "        ],\n",
      "        [\n",
      "            {'b': 'c8 d8 d,8', 't': \"e''16 c''16 b'16 a'16 g'16 fs'16\"},\n",
      "            {'b': 'c8 d8 d,8',\n",
      "                't': \"a'16 e''16 <b' d''>16 <a' c''>16 <g' b'>16 <fs' a'>16\"},\n",
      "            {'b': 'c8 d8 d,8',\n",
      "                't': \"<b' d''>16 ( <a' c''>16 ) <a' c''>16 ( <g' b'>16 ) \"\n",
      "                    \"<g' b'>16 ( <fs' a'>16 )\"},\n",
      "            {'b': 'c8 d8 d,8', 't': \"e''16 g''16 d''16 c''16 b'16 a'16\"},\n",
      "            {'b': 'c8 d8 d,8', 't': \"a'16 e''16 d''16 g''16 fs''16 a''16\"},\n",
      "            {'b': 'c8 d8 d,8', 't': \"e''16 a''16 g''16 b''16 fs''16 a''16\"},\n",
      "            {'b': 'c8 d8 d,8', 't': \"c''16 e''16 g''16 d''16 a'16 fs''16\"},\n",
      "            {'b': 'c8 d8 d,8', 't': \"e''16 g''16 d''16 g''16 a'16 fs''16\"},\n",
      "            {'b': 'c8 d8 d,8', 't': \"e''16 c''16 b'16 g'16 a'16 fs'16\"},\n",
      "            {'b': 'c8 d8 d,8', 't': \"e''16 c'''16 b''16 g''16 a''16 fs''16\"},\n",
      "            {'b': 'c8 d8 d,8', 't': \"a'8 d''16 c''16 b'16 a'16\"},\n",
      "        ],\n",
      "        [\n",
      "            {'b': 'g,8 g16 f16 e16 d16', 't': \"<g' b' d'' g''>4 r8\"},\n",
      "            {'b': 'g,8 b16 g16 fs16 e16', 't': \"<g' b' d'' g''>4 r8\"},\n",
      "        ],\n",
      "        [\n",
      "            {'b': 'd4 c8', 't': \"fs''8 a''16 fs''16 d''16 fs''16\"},\n",
      "            {'b': '<d fs>4 r8', 't': \"d''16 a'16 d''16 fs''16 a''16 fs''16\"},\n",
      "            {'b': '<d a>8 <d fs>8 <c d>8', 't': \"fs''8 a''8 fs''8\"},\n",
      "            {'b': '<c a>4 <c a>8',\n",
      "                't': \"fs''16 a''16 d'''16 a''16 fs''16 a''16\"},\n",
      "            {'b': 'd4 c8', 't': \"d'16 fs'16 a'16 d''16 fs''16 a''16\"},\n",
      "            {'b': 'd,16 d16 cs16 d16 c16 d16',\n",
      "                't': \"<a' d'' fs''>8 fs''4 ^\\\\trill\"},\n",
      "            {'b': '<d fs>4 <c fs>8', 't': \"a''8 ( fs''8 d''8 )\"},\n",
      "            {'b': '<d fs>4 <c fs>8', 't': \"d'''8 a''16 fs''16 d''16 a'16\"},\n",
      "            {'b': '<d fs>4 r8', 't': \"d''16 a'16 d''8 fs''8\"},\n",
      "            {'b': '<c a>4 <c a>8', 't': \"fs''16 d''16 a'8 fs''8\"},\n",
      "            {'b': '<d fs>4 <c a>8', 't': \"a'8 d''8 fs''8\"},\n",
      "        ],\n",
      "        [\n",
      "            {'b': '<b, g>4 r8', 't': \"g''8 b''16 g''16 d''8\"},\n",
      "            {'b': 'b,16 d16 g16 d16 b,16 g,16', 't': \"g''8 g'8 g'8\"},\n",
      "            {'b': 'b,4 r8', 't': \"g''16 b''16 g''16 b''16 d''8\"},\n",
      "            {'b': '<b, d>4 <b, d>8',\n",
      "                't': \"a''16 g''16 b''16 g''16 d''16 g''16\"},\n",
      "            {'b': '<b, d>4 <b, d>8', 't': \"g''8 d''16 b'16 g'8\"},\n",
      "            {'b': '<b, d>4 <b, d>8', 't': \"g''16 b''16 d'''16 b''16 g''8\"},\n",
      "            {'b': '<b, d>4 r8', 't': \"g''16 b''16 g''16 d''16 b'16 g'16\"},\n",
      "            {'b': '<b, d>4 <b, d>8',\n",
      "                't': \"g''16 d''16 g''16 b''16 g''16 d''16\"},\n",
      "            {'b': '<b, d>4 <b, g>8', 't': \"g''16 b''16 g''8 d''8\"},\n",
      "            {'b': 'g,16 b,16 g8 b,8', 't': \"g''8 d''4 ^\\\\trill\"},\n",
      "            {'b': 'b,4 r8', 't': \"g''8 b''16 d'''16 d''8\"},\n",
      "        ],\n",
      "        [\n",
      "            {'b': \"c16 e16 g16 e16 c'16 c16\",\n",
      "                't': \"<c'' e''>8 <c'' e''>8 <c'' e''>8\"},\n",
      "            {'b': 'e4 e16 c16',\n",
      "                't': \"c''16 g'16 c''16 e''16 g''16 <c'' e''>16\"},\n",
      "            {'b': '<c g>4 <c e>8', 't': \"e''8 g''16 e''16 c''8\"},\n",
      "            {'b': '<c g>4 r8', 't': \"e''16 c''16 e''16 g''16 c'''16 g''16\"},\n",
      "            {'b': '<c g>4 <c g>8',\n",
      "                't': \"e''16 g''16 c'''16 g''16 e''16 c''16\"},\n",
      "            {'b': 'c16 b,16 c16 d16 e16 fs16',\n",
      "                't': \"<g' c'' e''>8 e''4 ^\\\\trill\"},\n",
      "            {'b': '<c e>16 g16 <c e>16 g16 <c e>16 g16', 't': \"e''8 c''8 g'8\"},\n",
      "            {'b': '<c g>4 <c e>8', 't': \"e''8 c''16 e''16 g''16 c'''16\"},\n",
      "            {'b': '<c g>4 <c e>8', 't': \"e''16 c''16 e''8 g''8\"},\n",
      "            {'b': '<c g>4 <c g>8', 't': \"e''16 c''16 g'8 e''8\"},\n",
      "            {'b': '<c g>4 <c e>8', 't': \"e''8 ( g''8 c'''8 )\"},\n",
      "        ],\n",
      "        [\n",
      "            {'b': 'g4 g,8', 't': \"<c'' e''>8 <b' d''>8 r8\"},\n",
      "            {'b': '<g, g>4 g8', 't': \"d''16 b'16 g'8 r8\"},\n",
      "            {'b': 'g8 g,8 r8', 't': \"<c'' e''>8 <b' d''>16 <g' b'>16 g'8\"},\n",
      "            {'b': 'g4 r8', 't': \"e''16 c''16 d''16 b'16 g'8\"},\n",
      "            {'b': 'g8 g,8 r8', 't': \"g''16 e''16 d''16 b'16 g'8\"},\n",
      "            {'b': 'g4 g,8', 't': \"b'16 d''16 g''16 d''16 b'8\"},\n",
      "            {'b': 'g8 g,8 r8', 't': \"e''16 c''16 b'16 d''16 g''8\"},\n",
      "            {'b': '<g b>4 r8', 't': \"d''16 b''16 g''16 d''16 b'8\"},\n",
      "            {'b': '<b, g>4 <b, d>8', 't': \"d''16 b'16 g'8 g''8\"},\n",
      "            {'b': 'g16 fs16 g16 d16 b,16 g,16', 't': \"d''8 g'4\"},\n",
      "        ],\n",
      "        [\n",
      "            {'b': '<c e>16 g16 <c e>16 g16 <c e>16 g16', 't': \"e''8 c''8 g'8\"},\n",
      "            {'b': '<c e>16 g16 <c e>16 g16 <c e>16 g16', 't': \"g'8 c''8 e''8\"},\n",
      "            {'b': '<c e>16 g16 <c e>16 g16 <c e>16 g16',\n",
      "                't': \"g''8 e''8 c''8\"},\n",
      "            {'b': '<c e>4 <e g>8', 't': \"c''16 b'16 c''16 e''16 g'16 c''16\"},\n",
      "            {'b': '<c e>4 <c g>8',\n",
      "                't': \"c'''16 b''16 c'''16 g''16 e''16 c''16\"},\n",
      "            {'b': '<c g>4 <c e>8',\n",
      "                't': \"e''16 d''16 e''16 g''16 c'''16 g''16\"},\n",
      "            {'b': '<c e>4 r8', 't': \"g''8 f''16 e''16 d''16 c''16\"},\n",
      "            {'b': '<c e>4 r8', 't': \"c''16 g'16 e''16 c''16 g''16 e''16\"},\n",
      "            {'b': '<c e>16 g16 <c e>16 g16 <c e>16 g16', 't': \"c''8 g'8 e''8\"},\n",
      "            {'b': '<c e>16 g16 <c e>16 g16 <c e>16 g16',\n",
      "                't': \"g''8 c''8 e''8\"},\n",
      "            {'b': 'c8 c8 c8', 't': \"<e' c''>8 <e' c''>8 <e' c''>8\"},\n",
      "        ],\n",
      "        [\n",
      "            {'b': '<c e>16 g16 <c e>16 g16 <c e>16 g16',\n",
      "                't': \"e''8 ( c''8 g'8 )\"},\n",
      "            {'b': '<c e>4 <c g>8', 't': \"g'8 ( c''8 e''8 )\"},\n",
      "            {'b': '<c e>16 g16 <c e>16 g16 <c e>16 g16',\n",
      "                't': \"g''8 e''8 c''8\"},\n",
      "            {'b': '<c e>4 <c e>8', 't': \"c''16 b'16 c''16 e''16 g'16 c''16\"},\n",
      "            {'b': '<c e>4 r8', 't': \"c'''16 b''16 c'''16 g''16 e''16 c''16\"},\n",
      "            {'b': '<c g>4 <c e>8',\n",
      "                't': \"e''16 d''16 e''16 g''16 c'''16 g''16\"},\n",
      "            {'b': '<c e>4 <e g>8', 't': \"g''8 f''16 e''16 d''16 c''16\"},\n",
      "            {'b': '<c e>4 r8', 't': \"c''16 g'16 e''16 c''16 g''16 e''16\"},\n",
      "            {'b': '<c e>16 g16 <c e>16 g16 <c e>16 g16', 't': \"c''8 g'8 e''8\"},\n",
      "            {'b': '<c e>16 g16 <c e>16 g16 <c e>16 g16',\n",
      "                't': \"g''8 c''8 e''8\"},\n",
      "            {'b': 'c8 c8 c8', 't': \"<e' c''>8 <e' c''>8 <e' c''>8\"},\n",
      "        ],\n",
      "        [\n",
      "            {'b': \"<f a>4 <g d'>8\", 't': \"d''16 f''16 d''16 f''16 b'16 d''16\"},\n",
      "            {'b': 'f4 g8', 't': \"d''16 f''16 a''16 f''16 d''16 b'16\"},\n",
      "            {'b': 'f4 g8', 't': \"d''16 f''16 a'16 d''16 b'16 d''16\"},\n",
      "            {'b': 'f4 g8', 't': \"d''16 ( cs''16 ) d''16 f''16 g'16 b'16\"},\n",
      "            {'b': 'f8 d8 g8', 't': \"f''8 d''8 g''8\"},\n",
      "            {'b': 'f16 e16 d16 e16 f16 g16',\n",
      "                't': \"f''16 e''16 d''16 e''16 f''16 g''16\"},\n",
      "            {'b': 'f16 e16 d8 g8', 't': \"f''16 e''16 d''8 g''8\"},\n",
      "            {'b': 'f4 g8', 't': \"f''16 e''16 d''16 c''16 b'16 d''16\"},\n",
      "            {'b': 'f4 g8', 't': \"f''16 d''16 a'8 b'8\"},\n",
      "            {'b': 'f4 g8', 't': \"f''16 a''16 a'8 b'16 d''16\"},\n",
      "            {'b': 'f4 g8', 't': \"a'8 f''16 d''16 a'16 b'16\"},\n",
      "        ],\n",
      "        [\n",
      "            {'b': 'c8 g,8 c,8', 't': \"c''4 r8\"},\n",
      "            {'b': 'c4 c,8', 't': \"c''8 c'8 r8\"},\n",
      "        ],\n",
      "    ]"
     ],
     "language": "python",
     "metadata": {},
     "outputs": [],
     "prompt_number": 9
    },
    {
     "cell_type": "markdown",
     "metadata": {},
     "source": [
      "We can then use the p() function we saw earlier to \u201cbuild\u201d the treble and bass components of a measure like this:"
     ]
    },
    {
     "cell_type": "code",
     "collapsed": false,
     "input": [
      "def make_mozart_measure(measure_dict):\n",
      "    r'''Makes Mozart measure.\n",
      "    '''\n",
      "\n",
      "    # parse the contents of a measure definition dictionary\n",
      "    # wrap the expression to be parsed inside a LilyPond { } block\n",
      "    treble = parse('{{ {} }}'.format(measure_dict['t']))\n",
      "    bass = parse('{{ {} }}'.format(measure_dict['b']))\n",
      "    return treble, bass"
     ],
     "language": "python",
     "metadata": {},
     "outputs": [],
     "prompt_number": 10
    },
    {
     "cell_type": "markdown",
     "metadata": {},
     "source": [
      "Let\u2019s try with a measure-definition of our own:"
     ]
    },
    {
     "cell_type": "code",
     "collapsed": false,
     "input": [
      "my_measure_dict = {'b': r'c4 ^\\trill r8', 't': \"e''8 ( c''8 g'8 )\"}\n",
      "treble, bass = make_mozart_measure(my_measure_dict)\n",
      "f(treble), f(bass)"
     ],
     "language": "python",
     "metadata": {},
     "outputs": [
      {
       "output_type": "stream",
       "stream": "stdout",
       "text": [
        "{\n",
        "\te''8 (\n",
        "\tc''8\n",
        "\tg'8 )\n",
        "}\n",
        "{\n",
        "\tc4 ^\\trill\n",
        "\tr8\n",
        "}\n"
       ]
      },
      {
       "metadata": {},
       "output_type": "pyout",
       "prompt_number": 15,
       "text": [
        "(None, None)"
       ]
      }
     ],
     "prompt_number": 15
    },
    {
     "cell_type": "markdown",
     "metadata": {},
     "source": [
      "Now with one from the Mozart measure collection defined earlier. We\u2019ll grab the very last choice for the very last measure:"
     ]
    },
    {
     "cell_type": "code",
     "collapsed": false,
     "input": [
      "my_measure_dict = make_mozart_measure_corpus()[-1][-1]\n",
      "treble, bass = make_mozart_measure(my_measure_dict)\n",
      "f(treble), f(bass)"
     ],
     "language": "python",
     "metadata": {},
     "outputs": [
      {
       "output_type": "stream",
       "stream": "stdout",
       "text": [
        "{\n",
        "\tc''8\n",
        "\tc'8\n",
        "\tr8\n",
        "}\n",
        "{\n",
        "\tc4\n",
        "\tc,8\n",
        "}\n"
       ]
      },
      {
       "metadata": {},
       "output_type": "pyout",
       "prompt_number": 16,
       "text": [
        "(None, None)"
       ]
      }
     ],
     "prompt_number": 16
    },
    {
     "cell_type": "heading",
     "level": 2,
     "metadata": {},
     "source": [
      "The structure"
     ]
    },
    {
     "cell_type": "markdown",
     "metadata": {},
     "source": [
      "After storing all of the musical fragments into a corpus, concatenating those elements into a musical structure is relatively trivial. We\u2019ll use the choice() function from Python\u2019s random module. random.choice() randomly selects one element from an input list."
     ]
    },
    {
     "cell_type": "code",
     "collapsed": false,
     "input": [
      "import random\n",
      "my_list = [1, 'b', 3]\n",
      "my_result = [random.choice(my_list) for i in range(20)]\n",
      "my_result"
     ],
     "language": "python",
     "metadata": {},
     "outputs": [
      {
       "metadata": {},
       "output_type": "pyout",
       "prompt_number": 17,
       "text": [
        "[1, 1, 'b', 3, 3, 3, 'b', 3, 3, 'b', 3, 1, 3, 'b', 'b', 1, 'b', 1, 'b', 1]"
       ]
      }
     ],
     "prompt_number": 17
    },
    {
     "cell_type": "markdown",
     "metadata": {},
     "source": [
      "Our corpus is a list comprising sixteen sublists, one for each measure in the minuet. To build our musical structure, we can simply iterate through the corpus and call choice on each sublist, appending the chosen results to another list. The only catch is that the eighth measure of our minuet is actually the first-and-second-ending for the repeat of the first phrase. The sublist of the corpus for measure eight contains only the first and second ending definitions, and both of those measures should appear in the final piece, always in the same order. We\u2019ll have to intercept that sublist while we iterate through the corpus and apply some different logic.\n",
      "\n",
      "The easist way to intercept measure eight is to use the Python builtin enumerate, which allows you to iterate through a collection while also getting the index of each element in that collection:"
     ]
    },
    {
     "cell_type": "code",
     "collapsed": false,
     "input": [
      "def choose_mozart_measures():\n",
      "    r'''Chooses Mozart measures.\n",
      "    '''\n",
      "\n",
      "    measure_corpus = make_mozart_measure_corpus()\n",
      "    chosen_measures = []\n",
      "    for i, choices in enumerate(measure_corpus):\n",
      "        if i == 7: # get both alternative endings for mm. 8\n",
      "            chosen_measures.extend(choices)\n",
      "        else:\n",
      "            choice = random.choice(choices)\n",
      "            chosen_measures.append(choice)\n",
      "    return chosen_measures"
     ],
     "language": "python",
     "metadata": {},
     "outputs": [],
     "prompt_number": 18
    },
    {
     "cell_type": "markdown",
     "metadata": {},
     "source": [
      "The result will be a seventeen-item-long list of measure definitions:"
     ]
    },
    {
     "cell_type": "code",
     "collapsed": false,
     "input": [
      "choices = choose_mozart_measures()\n",
      "for i, measure in enumerate(choices):\n",
      "     print (i, measure)"
     ],
     "language": "python",
     "metadata": {},
     "outputs": [
      {
       "output_type": "stream",
       "stream": "stdout",
       "text": [
        "0 {'b': 'c8 c8 c8', 't': \"<e' c''>8 <e' c''>8 <e' c''>8\"}\n",
        "1 {'b': '<c e>4 r8', 't': \"c''16 g'16 e''16 c''16 g''16 e''16\"}\n",
        "2 {'b': 'b,4 r8', 't': \"d''8 ( b'8 g'8 )\"}\n",
        "3 {'b': '<c e>4 r8', 't': \"c''16 b'16 c''16 e''16 g'8\"}\n",
        "4 {'b': '<c a>4 r8', 't': \"fs''16 d''16 a'16 a''16 fs''16 d''16\"}\n",
        "5 {'b': '<b, d>8 <b, d>8 <b, g>8', 't': \"a''16 g''16 fs''16 g''16 d''8\"}\n",
        "6 {'b': 'c8 d8 d,8', 't': \"a'16 e''16 <b' d''>16 <a' c''>16 <g' b'>16 <fs' a'>16\"}\n",
        "7 {'b': 'g,8 g16 f16 e16 d16', 't': \"<g' b' d'' g''>4 r8\"}\n",
        "8 {'b': 'g,8 b16 g16 fs16 e16', 't': \"<g' b' d'' g''>4 r8\"}\n",
        "9 {'b': 'd,16 d16 cs16 d16 c16 d16', 't': \"<a' d'' fs''>8 fs''4 ^\\\\trill\"}\n",
        "10 {'b': '<b, d>4 <b, d>8', 't': \"g''16 d''16 g''16 b''16 g''16 d''16\"}\n",
        "11 {'b': 'c16 b,16 c16 d16 e16 fs16', 't': \"<g' c'' e''>8 e''4 ^\\\\trill\"}\n",
        "12 {'b': '<g b>4 r8', 't': \"d''16 b''16 g''16 d''16 b'8\"}\n",
        "13 {'b': '<c e>16 g16 <c e>16 g16 <c e>16 g16', 't': \"g'8 c''8 e''8\"}\n",
        "14 {'b': '<c g>4 <c e>8', 't': \"e''16 d''16 e''16 g''16 c'''16 g''16\"}\n",
        "15 {'b': 'f4 g8', 't': \"d''16 f''16 a''16 f''16 d''16 b'16\"}\n",
        "16 {'b': 'c4 c,8', 't': \"c''8 c'8 r8\"}\n"
       ]
      }
     ],
     "prompt_number": 19
    },
    {
     "cell_type": "heading",
     "level": 2,
     "metadata": {},
     "source": [
      "The score"
     ]
    },
    {
     "cell_type": "markdown",
     "metadata": {},
     "source": [
      "Now that we have our raw materials, and a way to organize them, we can start building our score. The tricky part here is figuring out how to implement LilyPond\u2019s repeat structure in Abjad. LilyPond structures its repeats something like this:\n",
      "\n",
      "    \\repeat volta n {\n",
      "        music to be repeated\n",
      "    }\n",
      "\n",
      "    \\alternative {\n",
      "        { ending 1 }\n",
      "        { ending 2 }\n",
      "        { ending n }\n",
      "    }\n",
      "\n",
      "...music after the repeat...\n",
      "\n",
      "What you see above is really just two containers, each with a little text (\u201crepeat volta n\u201d and \u201calternative\u201d) prepended to their opening curly brace. To create that structure in Abjad, we\u2019ll need to use the LilyPondCommand class, which allows you to place LilyPond commands like \u201cbreak\u201d relative to any score component:"
     ]
    },
    {
     "cell_type": "code",
     "collapsed": false,
     "input": [
      "container = Container(\"c'4 d'4 e'4 f'4\")\n",
      "command = indicatortools.LilyPondCommand('before-the-container', 'before')\n",
      "attach(command, container)\n",
      "command = indicatortools.LilyPondCommand('after-the-container', 'after')\n",
      "attach(command, container)\n",
      "command = indicatortools.LilyPondCommand('opening-of-the-container', 'opening')\n",
      "attach(command, container)\n",
      "command = indicatortools.LilyPondCommand('closing-of-the-container', 'closing')\n",
      "attach(command, container)\n",
      "command = indicatortools.LilyPondCommand('to-the-right-of-a-note', 'right')\n",
      "attach(command, container[2])\n",
      "f(container)"
     ],
     "language": "python",
     "metadata": {},
     "outputs": [
      {
       "output_type": "stream",
       "stream": "stdout",
       "text": [
        "\\before-the-container\n",
        "{\n",
        "\t\\opening-of-the-container\n",
        "\tc'4\n",
        "\td'4\n",
        "\te'4 \\to-the-right-of-a-note\n",
        "\tf'4\n",
        "\t\\closing-of-the-container\n",
        "}\n",
        "\\after-the-container\n"
       ]
      }
     ],
     "prompt_number": 20
    },
    {
     "cell_type": "markdown",
     "metadata": {},
     "source": [
      "Notice the second argument to each LilyPondCommand above, like before and closing. These are format slot indications, which control where the command is placed in the LilyPond code relative to the score element it is attached to. To mimic LilyPond\u2019s repeat syntax, we\u2019ll have to create two LilyPondCommand instances, both using the \u201cbefore\u201d format slot, insuring that their command is placed before their container\u2019s opening curly brace.\n",
      "\n",
      "Now let\u2019s take a look at the code that puts our score together:"
     ]
    },
    {
     "cell_type": "code",
     "collapsed": false,
     "input": [
      "def make_mozart_score():\n",
      "    r'''Makes Mozart score.\n",
      "    '''\n",
      "\n",
      "    score_template = templatetools.TwoStaffPianoScoreTemplate()\n",
      "    score = score_template()\n",
      "\n",
      "    # select the measures to use\n",
      "    choices = choose_mozart_measures()\n",
      "\n",
      "    # create and populate the volta containers\n",
      "    treble_volta = Container()\n",
      "    bass_volta = Container()\n",
      "    for choice in choices[:7]:\n",
      "        treble, bass = make_mozart_measure(choice)\n",
      "        treble_volta.append(treble)\n",
      "        bass_volta.append(bass)\n",
      "\n",
      "    # attach indicators to the volta containers\n",
      "    command = indicatortools.LilyPondCommand(\n",
      "        'repeat volta 2', 'before'\n",
      "        )\n",
      "    attach(command, treble_volta)\n",
      "    command = indicatortools.LilyPondCommand(\n",
      "        'repeat volta 2', 'before'\n",
      "        )\n",
      "    attach(command, bass_volta)\n",
      "\n",
      "    # append the volta containers to our staves\n",
      "    score['RH Voice'].append(treble_volta)\n",
      "    score['LH Voice'].append(bass_volta)\n",
      "\n",
      "    # create and populate the alternative ending containers\n",
      "    treble_alternative = Container()\n",
      "    bass_alternative = Container()\n",
      "    for choice in choices[7:9]:\n",
      "        treble, bass = make_mozart_measure(choice)\n",
      "        treble_alternative.append(treble)\n",
      "        bass_alternative.append(bass)\n",
      "\n",
      "    # attach indicators to the alternative containers\n",
      "    command = indicatortools.LilyPondCommand(\n",
      "        'alternative', 'before'\n",
      "        )\n",
      "    attach(command, treble_alternative)\n",
      "    command = indicatortools.LilyPondCommand(\n",
      "        'alternative', 'before'\n",
      "        )\n",
      "    attach(command, bass_alternative)\n",
      "\n",
      "    # append the alternative containers to our staves\n",
      "    score['RH Voice'].append(treble_alternative)\n",
      "    score['LH Voice'].append(bass_alternative)\n",
      "\n",
      "    # create the remaining measures\n",
      "    for choice in choices[9:]:\n",
      "        treble, bass = make_mozart_measure(choice)\n",
      "        score['RH Voice'].append(treble)\n",
      "        score['LH Voice'].append(bass)\n",
      "\n",
      "    # attach indicators\n",
      "    time_signature = indicatortools.TimeSignature((3, 8))\n",
      "    attach(time_signature, score['RH Staff'])\n",
      "    bar_line = indicatortools.BarLine('|.')\n",
      "    attach(bar_line, score['RH Voice'][-1])\n",
      "    bar_line = indicatortools.BarLine('|.')\n",
      "    attach(bar_line, score['LH Voice'][-1])\n",
      "\n",
      "    # remove the old, default piano instrument attached to the piano staff\n",
      "    # and attach a custom instrument mark\n",
      "    detach(instrumenttools.Instrument, score['Piano Staff'])\n",
      "\n",
      "    klavier = instrumenttools.Piano(\n",
      "        instrument_name='Katzenklavier',\n",
      "        short_instrument_name='kk.',\n",
      "        )\n",
      "    attach(klavier, score['Piano Staff'])\n",
      "\n",
      "    return score"
     ],
     "language": "python",
     "metadata": {},
     "outputs": [],
     "prompt_number": 22
    },
    {
     "cell_type": "code",
     "collapsed": false,
     "input": [
      "score = make_mozart_score()\n",
      "show(score)"
     ],
     "language": "python",
     "metadata": {},
     "outputs": [
      {
       "metadata": {},
       "output_type": "display_data",
       "png": "[encoded data removed]"
      }
     ],
     "prompt_number": 23
    },
    {
     "cell_type": "heading",
     "level": 2,
     "metadata": {},
     "source": [
      "The document"
     ]
    },
    {
     "cell_type": "markdown",
     "metadata": {},
     "source": [
      "As you can see above, we\u2019ve now got our randomized minuet. However, we can still go a bit further. LilyPond provides a wide variety of settings for controlling the overall look of a musical document, often through its header, layout and paper blocks. Abjad, in turn, gives us object-oriented access to these settings through the its lilypondfiletools module.\n",
      "\n",
      "We\u2019ll use abjad.tools.lilypondfiletools.make_basic_lilypond_file() to wrap our Score inside a LilyPondFile instance. From there we can access the other \u201cblocks\u201d of our document to add a title, a composer\u2019s name, change the global staff size, paper size, staff spacing and so forth."
     ]
    },
    {
     "cell_type": "code",
     "collapsed": false,
     "input": [
      "def make_mozart_lilypond_file():\n",
      "    r'''Makes Mozart LilyPond file.\n",
      "    '''\n",
      "\n",
      "    score = make_mozart_score()\n",
      "    lily = lilypondfiletools.make_basic_lilypond_file(score)\n",
      "    title = markuptools.Markup(r'\\bold \\sans \"Ein Musikalisches Wuerfelspiel\"')\n",
      "    composer = schemetools.Scheme(\"W. A. Mozart (maybe?)\")\n",
      "    lily.global_staff_size = 12\n",
      "    lily.header_block.title = title\n",
      "    lily.header_block.composer = composer\n",
      "    lily.layout_block.ragged_right = True\n",
      "    lily.paper_block.markup_system_spacing__basic_distance = 8\n",
      "    lily.paper_block.paper_width = 180\n",
      "    return lily"
     ],
     "language": "python",
     "metadata": {},
     "outputs": [],
     "prompt_number": 25
    },
    {
     "cell_type": "code",
     "collapsed": false,
     "input": [
      "lilypond_file = make_mozart_lilypond_file()\n"
     ],
     "language": "python",
     "metadata": {},
     "outputs": [
      {
       "output_type": "stream",
       "stream": "stdout",
       "text": [
        "<LilyPondFile(4)>\n"
       ]
      }
     ],
     "prompt_number": 26
    },
    {
     "cell_type": "code",
     "collapsed": false,
     "input": [
      "print(lilypond_file)\n",
      "print(lilypond_file.header_block)\n",
      "print(lilypond_file.layout_block)\n",
      "print(f(lilypond_file.layout_block))\n",
      "print(lilypond_file.paper_block)\n",
      "print(f(lilypond_file.paper_block))"
     ],
     "language": "python",
     "metadata": {},
     "outputs": [
      {
       "output_type": "stream",
       "stream": "stdout",
       "text": [
        "<LilyPondFile(4)>\n",
        "<Block(name='header')>\n",
        "<Block(name='layout')>\n",
        "\\layout {\n",
        "\tragged-right = ##t\n",
        "}\n",
        "None\n",
        "<Block(name='paper')>\n",
        "\\paper {\n",
        "\tmarkup-system-spacing #'basic-distance = #8\n",
        "\tpaper-width = #180\n",
        "}\n",
        "None\n"
       ]
      }
     ],
     "prompt_number": 28
    },
    {
     "cell_type": "markdown",
     "metadata": {},
     "source": [
      "And now, the final result"
     ]
    },
    {
     "cell_type": "code",
     "collapsed": false,
     "input": [
      "show(lilypond_file)"
     ],
     "language": "python",
     "metadata": {},
     "outputs": [
      {
       "metadata": {},
       "output_type": "display_data",
       "png": "[encoded data removed]"
      }
     ],
     "prompt_number": 29
    },
    {
     "cell_type": "code",
     "collapsed": false,
     "input": [],
     "language": "python",
     "metadata": {},
     "outputs": []
    }
   ],
   "metadata": {}
  }
 ]
}