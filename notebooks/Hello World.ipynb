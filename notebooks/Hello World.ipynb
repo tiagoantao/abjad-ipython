{
 "metadata": {
  "name": "",
  "signature": "sha256:f450531abef3e3b76dde5d56358ce1a80edf0b3cf8da0f64c959142936781249"
 },
 "nbformat": 3,
 "nbformat_minor": 0,
 "worksheets": [
  {
   "cells": [
    {
     "cell_type": "code",
     "collapsed": false,
     "input": [],
     "language": "python",
     "metadata": {},
     "outputs": []
    }
   ],
   "metadata": {}
  }
 ]
}