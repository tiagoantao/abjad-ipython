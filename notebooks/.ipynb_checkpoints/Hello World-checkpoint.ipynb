{
 "metadata": {
  "name": "",
  "signature": "sha256:43e8e087e9f93e880470769ccba5927127f88a3f33da990ffc9626cc16ce6a92"
 },
 "nbformat": 3,
 "nbformat_minor": 0,
 "worksheets": []
}