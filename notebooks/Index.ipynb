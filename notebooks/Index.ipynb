{
 "metadata": {
  "name": "",
  "signature": "sha256:80cf4010b6a3dcaa705677a90d4ff18b8ebbb7986c31458110254d50d73fb6ff"
 },
 "nbformat": 3,
 "nbformat_minor": 0,
 "worksheets": [
  {
   "cells": [
    {
     "cell_type": "heading",
     "level": 1,
     "metadata": {},
     "source": [
      "Abjad examples converted to IPython Notebooks"
     ]
    },
    {
     "cell_type": "markdown",
     "metadata": {},
     "source": [
      "These notebooks convert <a href=\"http://abjad.mbrsi.org/examples/index.html\">Abjad original examples</a> to well... notebook format ;) .\n",
      "\n",
      "To be have to use abjad output (i.e the scores) inlined in notebook you will need <a href=\"https://github.com/tiagoantao/abjad-ipython\">my code to bridge those</a>."
     ]
    },
    {
     "cell_type": "markdown",
     "metadata": {},
     "source": [
      "After installation and importing, its usage is 100% transparent against abjad's standard dialect. Remember that abjad tends to use:\n",
      "\n",
      "```python\n",
      "from abjad import *```\n",
      "\n",
      "Then you only have to do\n",
      "```python\n",
      "%run ../src/abjad-nb.py```\n",
      "\n",
      "And everything will be inlined on the notebooks. This works by redefining the show function. The new function will also convert multi-page output.\n",
      "\n",
      "This was tested on Python 3 with abjad from github (not the current stable - 2.14 - which does not support Python 3). If you want to use Python 2 and encounter any problems, please contact me. The code should work with 2.14, but the examples below **will not**. "
     ]
    },
    {
     "cell_type": "markdown",
     "metadata": {},
     "source": [
      "I believe that the interactive/collaborative enviroment of IPython notebook is a perfect match for score writing."
     ]
    },
    {
     "cell_type": "heading",
     "level": 2,
     "metadata": {},
     "source": [
      "The examples"
     ]
    },
    {
     "cell_type": "markdown",
     "metadata": {},
     "source": [
      "<a href=\"Bartok%20-%20Mikrokosmos.ipynb\">Bart\u00f3k: Mikrokosmos</a>\n",
      "\n",
      "<a href=\"Ferneyhough%20-%20Unsichtbare%20Farben.ipynb\">Ferneyhough: Unsichtbare Farben</a>\n",
      "\n",
      "<a href=\"Mozart%20-%20Musikalisches%20Wurfelspiel.ipynb\">Mozart: Musikalisches W\u00fcrfelspiel</a>\n",
      "\n",
      "<a href=\"Part%20-%20Cantus%20in%20Memory%20of%20Benjamin%20Britten.ipynb\">P\u00e4rt: Cantus in Memory of Benjamin Britten</a>\n",
      "\n",
      "<a href=\"Ligeti%20-%20Desordre.ipynb\">Ligeti: D\u00e9sordre</a> (This one still misses explnation the text, is just the barebones code)"
     ]
    },
    {
     "cell_type": "heading",
     "level": 2,
     "metadata": {},
     "source": [
      "Final dispositions"
     ]
    },
    {
     "cell_type": "markdown",
     "metadata": {},
     "source": [
      "I just converted the examples, the content authorship rests with abjad's authors.\n",
      "\n",
      "I did not convert most of the diacritics (just to avoid potential problems with folks who do not have software prepared for this), but after this stabilizes I will do that."
     ]
    },
    {
     "cell_type": "code",
     "collapsed": false,
     "input": [],
     "language": "python",
     "metadata": {},
     "outputs": []
    }
   ],
   "metadata": {}
  }
 ]
}