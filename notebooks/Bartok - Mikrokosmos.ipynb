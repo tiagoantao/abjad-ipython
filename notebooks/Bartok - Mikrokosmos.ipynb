{
 "metadata": {
  "name": "",
  "signature": "sha256:4333d63d09055aa78d14e3ecde9af0bd1e9d7675ce5f4deb7c71a6b878b92f27"
 },
 "nbformat": 3,
 "nbformat_minor": 0,
 "worksheets": [
  {
   "cells": [
    {
     "cell_type": "heading",
     "level": 2,
     "metadata": {},
     "source": [
      "Preamble"
     ]
    },
    {
     "cell_type": "markdown",
     "metadata": {},
     "source": [
      "This was taken and slightly adapted from the example section of the abjad documentation. I am not the author of the content (only the porting to noteook format). I have removed all diacritics for now."
     ]
    },
    {
     "cell_type": "code",
     "collapsed": false,
     "input": [
      "from abjad import *\n",
      "%load_ext abjad.ext.ipython"
     ],
     "language": "python",
     "metadata": {},
     "outputs": [],
     "prompt_number": 1
    },
    {
     "cell_type": "heading",
     "level": 1,
     "metadata": {},
     "source": [
      "Bartok - Mikrokosmos"
     ]
    },
    {
     "cell_type": "markdown",
     "metadata": {},
     "source": [
      "We\u2019ll construct the fragment top-down from containers to notes. We could have done it the other way around but it will be easier to keep the big picture in mind this way. Later, you can rebuild the example bottom-up as an exercise.\n",
      "\n",
      "First let\u2019s create an empty score with a pair of staves connected by a brace:"
     ]
    },
    {
     "cell_type": "heading",
     "level": 2,
     "metadata": {},
     "source": [
      "The score"
     ]
    },
    {
     "cell_type": "markdown",
     "metadata": {},
     "source": [
      "We\u2019ll construct the fragment top-down from containers to notes. We could have done it the other way around but it will be easier to keep the big picture in mind this way. Later, you can rebuild the example bottom-up as an exercise.\n",
      "\n",
      "First let\u2019s create an empty score with a pair of staves connected by a brace:"
     ]
    },
    {
     "cell_type": "code",
     "collapsed": false,
     "input": [
      "score = Score([])\n",
      "piano = instrumenttools.Piano([])\n",
      "staff_group = StaffGroup(context_name='PianoStaff', name='Piano')\n",
      "attach(piano, staff_group)\n",
      "upper_staff = Staff([])\n",
      "lower_staff = Staff([])"
     ],
     "language": "python",
     "metadata": {},
     "outputs": [],
     "prompt_number": 2
    },
    {
     "cell_type": "code",
     "collapsed": false,
     "input": [
      "staff_group.append(upper_staff)\n",
      "staff_group.append(lower_staff)\n",
      "score.append(staff_group)"
     ],
     "language": "python",
     "metadata": {},
     "outputs": [],
     "prompt_number": 3
    },
    {
     "cell_type": "heading",
     "level": 2,
     "metadata": {},
     "source": [
      "The measures"
     ]
    },
    {
     "cell_type": "markdown",
     "metadata": {},
     "source": [
      "Now let\u2019s add some empty measures:"
     ]
    },
    {
     "cell_type": "code",
     "collapsed": false,
     "input": [
      "upper_measures = []\n",
      "upper_measures.append(Measure((2, 4), []))\n",
      "upper_measures.append(Measure((3, 4), []))\n",
      "upper_measures.append(Measure((2, 4), []))\n",
      "upper_measures.append(Measure((2, 4), []))\n",
      "upper_measures.append(Measure((2, 4), []))"
     ],
     "language": "python",
     "metadata": {},
     "outputs": [],
     "prompt_number": 4
    },
    {
     "cell_type": "code",
     "collapsed": false,
     "input": [
      "import copy\n",
      "lower_measures = copy.deepcopy(upper_measures)"
     ],
     "language": "python",
     "metadata": {},
     "outputs": [],
     "prompt_number": 5
    },
    {
     "cell_type": "code",
     "collapsed": false,
     "input": [
      "upper_staff.extend(upper_measures)\n",
      "lower_staff.extend(lower_measures)"
     ],
     "language": "python",
     "metadata": {},
     "outputs": [],
     "prompt_number": 6
    },
    {
     "cell_type": "heading",
     "level": 2,
     "metadata": {},
     "source": [
      "The notes"
     ]
    },
    {
     "cell_type": "markdown",
     "metadata": {},
     "source": [
      "Now let\u2019s add some notes.\n",
      "\n",
      "We begin with the upper staff:"
     ]
    },
    {
     "cell_type": "code",
     "collapsed": false,
     "input": [
      "upper_measures[0].extend(\"a'8 g'8 f'8 e'8\")\n",
      "upper_measures[1].extend(\"d'4 g'8 f'8 e'8 d'8\")\n",
      "upper_measures[2].extend(\"c'8 d'16 e'16 f'8 e'8\")\n",
      "upper_measures[3].append(\"d'2\")\n",
      "upper_measures[4].append(\"d'2\")"
     ],
     "language": "python",
     "metadata": {},
     "outputs": [],
     "prompt_number": 7
    },
    {
     "cell_type": "markdown",
     "metadata": {},
     "source": [
      "The first three measures of the lower staff contain only one voice:"
     ]
    },
    {
     "cell_type": "code",
     "collapsed": false,
     "input": [
      "lower_measures[0].extend(\"b4 d'8 c'8\")\n",
      "lower_measures[1].extend(\"b8 a8 af4 c'8 bf8\")\n",
      "lower_measures[2].extend(\"a8 g8 fs8 g16 a16\")"
     ],
     "language": "python",
     "metadata": {},
     "outputs": [],
     "prompt_number": 8
    },
    {
     "cell_type": "markdown",
     "metadata": {},
     "source": [
      "The last two measures of the lower staff contain two voices each.\n",
      "\n",
      "We use LilyPond \\voiceOne and \\voiceTwo commands to set the direction of stems in different voices. And we set is_simltaneous to true for each of the last two measures:\n"
     ]
    },
    {
     "cell_type": "code",
     "collapsed": false,
     "input": [
      "upper_voice = Voice(\"b2\", name='upper voice')\n",
      "command = indicatortools.LilyPondCommand('voiceOne')\n",
      "attach(command, upper_voice)\n",
      "lower_voice = Voice(\"b4 a4\", name='lower voice')\n",
      "command = indicatortools.LilyPondCommand('voiceTwo')\n",
      "attach(command, lower_voice)\n",
      "lower_measures[3].extend([upper_voice, lower_voice])\n",
      "lower_measures[3].is_simultaneous = True"
     ],
     "language": "python",
     "metadata": {},
     "outputs": [],
     "prompt_number": 9
    },
    {
     "cell_type": "code",
     "collapsed": false,
     "input": [
      "upper_voice = Voice(\"b2\", name='upper voice')\n",
      "command = indicatortools.LilyPondCommand('voiceOne')\n",
      "attach(command, upper_voice)\n",
      "lower_voice = Voice(\"g2\", name='lower voice')\n",
      "command = indicatortools.LilyPondCommand('voiceTwo')\n",
      "attach(command, lower_voice)\n",
      "lower_measures[4].extend([upper_voice, lower_voice])\n",
      "lower_measures[4].is_simultaneous = True"
     ],
     "language": "python",
     "metadata": {},
     "outputs": [],
     "prompt_number": 10
    },
    {
     "cell_type": "markdown",
     "metadata": {},
     "source": [
      "Here\u2019s our work so far:"
     ]
    },
    {
     "cell_type": "code",
     "collapsed": false,
     "input": [
      "show(score)"
     ],
     "language": "python",
     "metadata": {},
     "outputs": [
      {
       "metadata": {},
       "output_type": "display_data",
       "png": "[encoded data removed]"
      }
     ],
     "prompt_number": 11
    },
    {
     "cell_type": "heading",
     "level": 2,
     "metadata": {},
     "source": [
      "The details"
     ]
    },
    {
     "cell_type": "markdown",
     "metadata": {},
     "source": [
      "Ok, let\u2019s add the details. First, notice that the bottom staff has a treble clef just like the top staff. Let\u2019s change that:"
     ]
    },
    {
     "cell_type": "code",
     "collapsed": false,
     "input": [
      "clef = Clef('bass')\n",
      "attach(clef, lower_staff)"
     ],
     "language": "python",
     "metadata": {},
     "outputs": [],
     "prompt_number": 12
    },
    {
     "cell_type": "markdown",
     "metadata": {},
     "source": [
      "Now let\u2019s add dynamics. For the top staff, we\u2019ll add them to the first note of the first measure and the second note of the second measure. For the bottom staff, we\u2019ll add dynamicings to the second note of the first measure and the fourth note of the second measure:\n"
     ]
    },
    {
     "cell_type": "code",
     "collapsed": false,
     "input": [
      "dynamic = Dynamic('pp')\n",
      "attach(dynamic, upper_measures[0][0])"
     ],
     "language": "python",
     "metadata": {},
     "outputs": [],
     "prompt_number": 13
    },
    {
     "cell_type": "code",
     "collapsed": false,
     "input": [
      "dynamic = Dynamic('mp')\n",
      "attach(dynamic, upper_measures[1][1])"
     ],
     "language": "python",
     "metadata": {},
     "outputs": [],
     "prompt_number": 14
    },
    {
     "cell_type": "code",
     "collapsed": false,
     "input": [
      "dynamic = Dynamic('pp')\n",
      "attach(dynamic, lower_measures[0][1])"
     ],
     "language": "python",
     "metadata": {},
     "outputs": [],
     "prompt_number": 15
    },
    {
     "cell_type": "code",
     "collapsed": false,
     "input": [
      "dynamic = Dynamic('mp')\n",
      "attach(dynamic, lower_measures[1][3])"
     ],
     "language": "python",
     "metadata": {},
     "outputs": [],
     "prompt_number": 16
    },
    {
     "cell_type": "markdown",
     "metadata": {},
     "source": [
      "Let\u2019s add a double bar to the end of the piece:"
     ]
    },
    {
     "cell_type": "code",
     "collapsed": false,
     "input": [
      "score.add_final_bar_line()"
     ],
     "language": "python",
     "metadata": {},
     "outputs": [
      {
       "metadata": {},
       "output_type": "pyout",
       "prompt_number": 17,
       "text": [
        "BarLine('|.')"
       ]
      }
     ],
     "prompt_number": 17
    },
    {
     "cell_type": "markdown",
     "metadata": {},
     "source": [
      "And see how things are coming out:"
     ]
    },
    {
     "cell_type": "code",
     "collapsed": false,
     "input": [
      "show(score)"
     ],
     "language": "python",
     "metadata": {},
     "outputs": [
      {
       "metadata": {},
       "output_type": "display_data",
       "png": "[encoded data removed]"
      }
     ],
     "prompt_number": 18
    },
    {
     "cell_type": "markdown",
     "metadata": {},
     "source": [
      "Notice that the beams of the eighth and sixteenth notes appear as you would usually expect: grouped by beat. We get this for free thanks to LilyPond\u2019s default beaming algorithm. But this is not the way Bart\u00f3k notated the beams. Let\u2019s set the beams as Bart\u00f3k did with some crossing the bar lines:"
     ]
    },
    {
     "cell_type": "code",
     "collapsed": false,
     "input": [
      "upper_leaves = upper_staff.select_leaves(allow_discontiguous_leaves=True)\n",
      "lower_leaves = lower_staff.select_leaves(allow_discontiguous_leaves=True)"
     ],
     "language": "python",
     "metadata": {},
     "outputs": [],
     "prompt_number": 19
    },
    {
     "cell_type": "code",
     "collapsed": false,
     "input": [
      "beam = Beam()\n",
      "attach(beam, upper_leaves[:4])"
     ],
     "language": "python",
     "metadata": {},
     "outputs": [],
     "prompt_number": 20
    },
    {
     "cell_type": "code",
     "collapsed": false,
     "input": [
      "beam = Beam()\n",
      "attach(beam, lower_leaves[1:5])"
     ],
     "language": "python",
     "metadata": {},
     "outputs": [],
     "prompt_number": 21
    },
    {
     "cell_type": "code",
     "collapsed": false,
     "input": [
      "beam = Beam()\n",
      "attach(beam, lower_leaves[6:10])"
     ],
     "language": "python",
     "metadata": {},
     "outputs": [],
     "prompt_number": 22
    },
    {
     "cell_type": "code",
     "collapsed": false,
     "input": [
      "show(score)"
     ],
     "language": "python",
     "metadata": {},
     "outputs": [
      {
       "metadata": {},
       "output_type": "display_data",
       "png": "[encoded data removed]"
      }
     ],
     "prompt_number": 23
    },
    {
     "cell_type": "markdown",
     "metadata": {},
     "source": [
      "Now some slurs:"
     ]
    },
    {
     "cell_type": "code",
     "collapsed": false,
     "input": [
      "slur = Slur()\n",
      "attach(slur, upper_leaves[:5])"
     ],
     "language": "python",
     "metadata": {},
     "outputs": [],
     "prompt_number": 24
    },
    {
     "cell_type": "code",
     "collapsed": false,
     "input": [
      "slur = Slur()\n",
      "attach(slur, upper_leaves[5:])"
     ],
     "language": "python",
     "metadata": {},
     "outputs": [],
     "prompt_number": 25
    },
    {
     "cell_type": "code",
     "collapsed": false,
     "input": [
      "slur = Slur()\n",
      "attach(slur, lower_leaves[1:6])"
     ],
     "language": "python",
     "metadata": {},
     "outputs": [],
     "prompt_number": 26
    },
    {
     "cell_type": "markdown",
     "metadata": {},
     "source": [
      "Hairpins:"
     ]
    },
    {
     "cell_type": "code",
     "collapsed": false,
     "input": [
      "crescendo = Crescendo()\n",
      "attach(crescendo, upper_leaves[-7:-2])"
     ],
     "language": "python",
     "metadata": {},
     "outputs": [],
     "prompt_number": 27
    },
    {
     "cell_type": "code",
     "collapsed": false,
     "input": [
      "decrescendo = Decrescendo()\n",
      "attach(decrescendo, upper_leaves[-2:])"
     ],
     "language": "python",
     "metadata": {},
     "outputs": [],
     "prompt_number": 28
    },
    {
     "cell_type": "markdown",
     "metadata": {},
     "source": [
      "A ritardando marking above the last seven notes of the upper staff:"
     ]
    },
    {
     "cell_type": "code",
     "collapsed": false,
     "input": [
      "markup = Markup('ritard.')\n",
      "text_spanner = spannertools.TextSpanner()\n",
      "override(text_spanner).text_spanner.bound_details__left__text = markup\n",
      "attach(text_spanner, upper_leaves[-7:])"
     ],
     "language": "python",
     "metadata": {},
     "outputs": [],
     "prompt_number": 29
    },
    {
     "cell_type": "markdown",
     "metadata": {},
     "source": [
      "And ties connecting the last two notes in each staff:"
     ]
    },
    {
     "cell_type": "code",
     "collapsed": false,
     "input": [
      "tie = Tie()\n",
      "attach(tie, upper_leaves[-2:])"
     ],
     "language": "python",
     "metadata": {},
     "outputs": [],
     "prompt_number": 30
    },
    {
     "cell_type": "code",
     "collapsed": false,
     "input": [
      "note_1 = lower_staff[-2]['upper voice'][0]\n",
      "note_2 = lower_staff[-1]['upper voice'][0]\n",
      "notes = [note_1, note_2]\n",
      "tie = Tie()\n",
      "attach(tie, notes)"
     ],
     "language": "python",
     "metadata": {},
     "outputs": [],
     "prompt_number": 31
    },
    {
     "cell_type": "markdown",
     "metadata": {},
     "source": [
      "The final result:"
     ]
    },
    {
     "cell_type": "code",
     "collapsed": false,
     "input": [
      "show(score)"
     ],
     "language": "python",
     "metadata": {},
     "outputs": [
      {
       "metadata": {},
       "output_type": "display_data",
       "png": "[encoded data removed]"
      }
     ],
     "prompt_number": 32
    },
    {
     "cell_type": "code",
     "collapsed": false,
     "input": [],
     "language": "python",
     "metadata": {},
     "outputs": []
    }
   ],
   "metadata": {}
  }
 ]
}