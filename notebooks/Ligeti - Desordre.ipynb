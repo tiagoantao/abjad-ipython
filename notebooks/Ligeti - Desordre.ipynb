{
 "metadata": {
  "name": "",
  "signature": "sha256:26395eb934ae63f36b097fd8eb91dae7f5397b03ac8b9f07771eb9053155c424"
 },
 "nbformat": 3,
 "nbformat_minor": 0,
 "worksheets": [
  {
   "cells": [
    {
     "cell_type": "code",
     "collapsed": false,
     "input": [
      "from abjad import *\n",
      "%load_ext abjad.ext.ipython"
     ],
     "language": "python",
     "metadata": {},
     "outputs": [],
     "prompt_number": 1
    },
    {
     "cell_type": "code",
     "collapsed": false,
     "input": [
      "from abjad.demos import desordre"
     ],
     "language": "python",
     "metadata": {},
     "outputs": [],
     "prompt_number": 2
    },
    {
     "cell_type": "code",
     "collapsed": false,
     "input": [
      "pitches = [1,2,3]\n",
      "notes = scoretools.make_notes(pitches, [(1, 8)])\n",
      "beam = Beam()\n",
      "attach(beam, notes)\n",
      "slur = Slur()\n",
      "attach(slur, notes)\n",
      "dynamic = Dynamic('f')\n",
      "attach(dynamic, notes[0])\n",
      "dynamic = Dynamic('p')\n",
      "attach(dynamic, notes[1])"
     ],
     "language": "python",
     "metadata": {},
     "outputs": [],
     "prompt_number": 3
    },
    {
     "cell_type": "code",
     "collapsed": false,
     "input": [
      "voice_lower = Voice(notes)\n",
      "voice_lower.name = 'rh_lower'\n",
      "command = indicatortools.LilyPondCommand('voiceTwo')\n",
      "attach(command, voice_lower)"
     ],
     "language": "python",
     "metadata": {},
     "outputs": [],
     "prompt_number": 4
    },
    {
     "cell_type": "code",
     "collapsed": false,
     "input": [
      "import math\n",
      "n = int(math.ceil(len(pitches) / 2.))\n",
      "chord = Chord([pitches[0], pitches[0] + 12], (n, 8))\n",
      "articulation = Articulation('>')\n",
      "attach(articulation, chord)"
     ],
     "language": "python",
     "metadata": {},
     "outputs": [],
     "prompt_number": 5
    },
    {
     "cell_type": "code",
     "collapsed": false,
     "input": [
      "voice_higher = Voice([chord])\n",
      "voice_higher.name = 'rh_higher'\n",
      "command = indicatortools.LilyPondCommand('voiceOne')\n",
      "attach(command, voice_higher)"
     ],
     "language": "python",
     "metadata": {},
     "outputs": [],
     "prompt_number": 6
    },
    {
     "cell_type": "code",
     "collapsed": false,
     "input": [
      "container = Container([voice_lower, voice_higher])\n",
      "container.is_simultaneous = True"
     ],
     "language": "python",
     "metadata": {},
     "outputs": [],
     "prompt_number": 7
    },
    {
     "cell_type": "code",
     "collapsed": false,
     "input": [
      "cell = Staff([container])\n",
      "show(cell)"
     ],
     "language": "python",
     "metadata": {},
     "outputs": [
      {
       "metadata": {},
       "output_type": "display_data",
       "png": "[encoded data removed]"
      }
     ],
     "prompt_number": 8
    },
    {
     "cell_type": "code",
     "collapsed": false,
     "input": [
      "def make_desordre_cell(pitches):\n",
      "    '''The function constructs and returns a *D\u00e9sordre cell*.\n",
      "    `pitches` is a list of numbers or, more generally, pitch tokens.\n",
      "    '''\n",
      "\n",
      "    notes = [scoretools.Note(pitch, (1, 8)) for pitch in pitches]\n",
      "    beam = spannertools.Beam()\n",
      "    attach(beam, notes)\n",
      "    slur = spannertools.Slur()\n",
      "    attach(slur, notes)\n",
      "    clef = indicatortools.Dynamic('f')\n",
      "    attach(clef, notes[0])\n",
      "    dynamic = indicatortools.Dynamic('p')\n",
      "    attach(dynamic, notes[1])\n",
      "\n",
      "    # make the lower voice\n",
      "    lower_voice = scoretools.Voice(notes)\n",
      "    lower_voice.name = 'RH Lower Voice'\n",
      "    command = indicatortools.LilyPondCommand('voiceTwo')\n",
      "    attach(command, lower_voice)\n",
      "    n = int(math.ceil(len(pitches) / 2.))\n",
      "    chord = scoretools.Chord([pitches[0], pitches[0] + 12], (n, 8))\n",
      "    articulation = indicatortools.Articulation('>')\n",
      "    attach(articulation, chord)\n",
      "\n",
      "    # make the upper voice\n",
      "    upper_voice = scoretools.Voice([chord])\n",
      "    upper_voice.name = 'RH Upper Voice'\n",
      "    command = indicatortools.LilyPondCommand('voiceOne')\n",
      "    attach(command, upper_voice)\n",
      "\n",
      "    # combine them together\n",
      "    container = scoretools.Container([lower_voice, upper_voice])\n",
      "    container.is_simultaneous = True\n",
      "\n",
      "    # make all 1/8 beats breakable\n",
      "    for leaf in lower_voice.select_leaves()[:-1]:\n",
      "        bar_line = indicatortools.BarLine('')\n",
      "        attach(bar_line, leaf)\n",
      "\n",
      "    return container"
     ],
     "language": "python",
     "metadata": {},
     "outputs": [],
     "prompt_number": 9
    },
    {
     "cell_type": "code",
     "collapsed": false,
     "input": [
      "def make_desordre_measure(pitches):\n",
      "    '''Makes a measure composed of *D\u00e9sordre cells*.\n",
      "\n",
      "    `pitches` is a list of lists of number (e.g., [[1, 2, 3], [2, 3, 4]])\n",
      "\n",
      "    The function returns a measure.\n",
      "    '''\n",
      "\n",
      "    for sequence in pitches:\n",
      "        container = make_desordre_cell(sequence)\n",
      "        time_signature = inspect_(container).get_duration()\n",
      "        time_signature = mathtools.NonreducedFraction(time_signature)\n",
      "        time_signature = time_signature.with_denominator(8)\n",
      "        measure = scoretools.Measure(time_signature, [container])\n",
      "\n",
      "    return measure"
     ],
     "language": "python",
     "metadata": {},
     "outputs": [],
     "prompt_number": 10
    },
    {
     "cell_type": "code",
     "collapsed": false,
     "input": [
      "pitches = [[0, 4, 7], [0, 4, 7, 9], [4, 7, 9, 11]]\n",
      "measure = make_desordre_measure(pitches)\n",
      "staff = Staff([measure])\n",
      "show(staff)"
     ],
     "language": "python",
     "metadata": {},
     "outputs": [
      {
       "metadata": {},
       "output_type": "display_data",
       "png": "[encoded data removed]"
      }
     ],
     "prompt_number": 11
    },
    {
     "cell_type": "code",
     "collapsed": false,
     "input": [
      "def make_desordre_staff(pitches):\n",
      "    r'''Makes D\u00e9sordre staff.\n",
      "    '''\n",
      "\n",
      "    staff = scoretools.Staff()\n",
      "    for sequence in pitches:\n",
      "        measure = make_desordre_measure(sequence)\n",
      "        staff.append(measure)\n",
      "    return staff"
     ],
     "language": "python",
     "metadata": {},
     "outputs": [],
     "prompt_number": 12
    },
    {
     "cell_type": "code",
     "collapsed": false,
     "input": [
      "pitches = [[[-1, 4, 5], [-1, 4, 5, 7, 9]], [[0, 7, 9], [-1, 4, 5, 7, 9]]]\n",
      "staff = make_desordre_staff(pitches)\n",
      "show(staff)"
     ],
     "language": "python",
     "metadata": {},
     "outputs": [
      {
       "metadata": {},
       "output_type": "display_data",
       "png": "[encoded data removed]"
      }
     ],
     "prompt_number": 13
    },
    {
     "cell_type": "code",
     "collapsed": false,
     "input": [
      "def make_desordre_score(pitches):\n",
      "    '''Returns a complete piano staff with Ligeti music.\n",
      "    '''\n",
      "\n",
      "    assert len(pitches) == 2\n",
      "    piano = instrumenttools.Piano([])\n",
      "    staff_group = StaffGroup(context_name='PianoStaff', name='Piano')\n",
      "    attach(piano, staff_group)\n",
      "\n",
      "    # build the music\n",
      "    for hand in pitches:\n",
      "        staff = make_desordre_staff(hand)\n",
      "        staff_group.append(staff)\n",
      "\n",
      "    # set clef and key signature to left hand staff\n",
      "    clef = indicatortools.Clef('bass')\n",
      "    attach(clef, staff_group[1])\n",
      "    key_signature = KeySignature('b', 'major')\n",
      "    attach(key_signature, staff_group[1])\n",
      "\n",
      "    # wrap the piano staff in a score\n",
      "    score = scoretools.Score([staff_group])\n",
      "\n",
      "    return score"
     ],
     "language": "python",
     "metadata": {},
     "outputs": [],
     "prompt_number": 14
    },
    {
     "cell_type": "code",
     "collapsed": false,
     "input": [
      "top = [\n",
      "    [[-1, 4, 5], [-1, 4, 5, 7, 9]],\n",
      "    [[0, 7, 9], [-1, 4, 5, 7, 9]],\n",
      "    [[2, 4, 5, 7, 9], [0, 5, 7]],\n",
      "    [[-3, -1, 0, 2, 4, 5, 7]],\n",
      "    [[-3, 2, 4], [-3, 2, 4, 5, 7]],\n",
      "    [[2, 5, 7], [-3, 9, 11, 12, 14]],\n",
      "    [[4, 5, 7, 9, 11], [2, 4, 5]],\n",
      "    [[-5, 4, 5, 7, 9, 11, 12]],\n",
      "    [[2, 9, 11], [2, 9, 11, 12, 14]],\n",
      "    ]"
     ],
     "language": "python",
     "metadata": {},
     "outputs": [],
     "prompt_number": 15
    },
    {
     "cell_type": "code",
     "collapsed": false,
     "input": [
      "bottom = [\n",
      "    [[-9, -4, -2], [-9, -4, -2, 1, 3]],\n",
      "    [[-6, -2, 1], [-9, -4, -2, 1, 3]],\n",
      "    [[-4, -2, 1, 3, 6], [-4, -2, 1]],\n",
      "    [[-9, -6, -4, -2, 1, 3, 6, 1]],\n",
      "    [[-6, -2, 1], [-6, -2, 1, 3, -2]],\n",
      "    [[-4, 1, 3], [-6, 3, 6, -6, -4]],\n",
      "    [[-14, -11, -9, -6, -4], [-14, -11, -9]],\n",
      "    [[-11, -2, 1, -6, -4, -2, 1, 3]],\n",
      "    [[-6, 1, 3], [-6, -4, -2, 1, 3]],\n",
      "    ]"
     ],
     "language": "python",
     "metadata": {},
     "outputs": [],
     "prompt_number": 16
    },
    {
     "cell_type": "code",
     "collapsed": false,
     "input": [
      "score = make_desordre_score([top, bottom])"
     ],
     "language": "python",
     "metadata": {},
     "outputs": [],
     "prompt_number": 17
    },
    {
     "cell_type": "code",
     "collapsed": false,
     "input": [
      "from abjad.tools import documentationtools\n",
      "lilypond_file = documentationtools.make_ligeti_example_lilypond_file(score)"
     ],
     "language": "python",
     "metadata": {},
     "outputs": [],
     "prompt_number": 18
    },
    {
     "cell_type": "code",
     "collapsed": false,
     "input": [
      "show(lilypond_file)"
     ],
     "language": "python",
     "metadata": {},
     "outputs": [
      {
       "metadata": {},
       "output_type": "display_data",
       "png": "[encoded data removed]"
      }
     ],
     "prompt_number": 19
    },
    {
     "cell_type": "code",
     "collapsed": false,
     "input": [],
     "language": "python",
     "metadata": {},
     "outputs": []
    }
   ],
   "metadata": {}
  }
 ]
}