{
 "metadata": {
  "name": "",
  "signature": "sha256:5bc02eb0766e83176ab46f62d5fb8b9c607295e42d44f8bd5004484df361d831"
 },
 "nbformat": 3,
 "nbformat_minor": 0,
 "worksheets": [
  {
   "cells": [
    {
     "cell_type": "heading",
     "level": 2,
     "metadata": {},
     "source": [
      "Preamble"
     ]
    },
    {
     "cell_type": "markdown",
     "metadata": {},
     "source": [
      "This was taken and slightly adapted from the example section of the abjad documentation. I am not the author of the content (only the porting to noteook format). I have removed all diacritics for now."
     ]
    },
    {
     "cell_type": "code",
     "collapsed": false,
     "input": [
      "from abjad import *\n",
      "from abjad.tools import scoretools\n",
      "%run ../src/abjad-nb.py"
     ],
     "language": "python",
     "metadata": {},
     "outputs": [],
     "prompt_number": 1
    },
    {
     "cell_type": "markdown",
     "metadata": {},
     "source": [
      "We will use and extra import here"
     ]
    },
    {
     "cell_type": "code",
     "collapsed": false,
     "input": [
      "from abjad.demos import ferneyhough"
     ],
     "language": "python",
     "metadata": {},
     "outputs": [],
     "prompt_number": 5
    },
    {
     "cell_type": "heading",
     "level": 1,
     "metadata": {},
     "source": [
      "Ferneyhough: Unsichtbare Farben"
     ]
    },
    {
     "cell_type": "markdown",
     "metadata": {},
     "source": [
      "Mikhial Malt analyzes the rhythmic materials of Ferneyhough\u2019s Unsichtbare Farben in The OM Composer\u2019s Book 2.\n",
      "\n",
      "Malt explains that Ferneyhough used OpenMusic to create an \u201cexhaustive catalogue of rhythmic cells\u201d such that:\n",
      "\n",
      "1. They are subdivided into two pulses, with proportions from 1/1 to 1/11.\n",
      "2. The second pulse is subdivided successively by 1, 2, 3, 4, 5 and 6.\n",
      "\n",
      "Let\u2019s recreate Malt\u2019s results in Abjad."
     ]
    },
    {
     "cell_type": "heading",
     "level": 2,
     "metadata": {},
     "source": [
      "The proportions"
     ]
    },
    {
     "cell_type": "markdown",
     "metadata": {},
     "source": [
      "First we define the proportions"
     ]
    },
    {
     "cell_type": "code",
     "collapsed": false,
     "input": [
      "proportions = [(1, n) for n in range(1, 11 + 1)]\n",
      "proportions"
     ],
     "language": "python",
     "metadata": {},
     "outputs": [
      {
       "metadata": {},
       "output_type": "pyout",
       "prompt_number": 6,
       "text": [
        "[(1, 1),\n",
        " (1, 2),\n",
        " (1, 3),\n",
        " (1, 4),\n",
        " (1, 5),\n",
        " (1, 6),\n",
        " (1, 7),\n",
        " (1, 8),\n",
        " (1, 9),\n",
        " (1, 10),\n",
        " (1, 11)]"
       ]
      }
     ],
     "prompt_number": 6
    },
    {
     "cell_type": "heading",
     "level": 2,
     "metadata": {},
     "source": [
      "The transforms"
     ]
    },
    {
     "cell_type": "markdown",
     "metadata": {},
     "source": [
      "Next we\u2019ll show how to divide a quarter note into various ratios, and then divide the final logical tie of the resulting tuplet into yet another ratio:"
     ]
    },
    {
     "cell_type": "code",
     "collapsed": false,
     "input": [
      "def make_nested_tuplet(\n",
      "    tuplet_duration,\n",
      "    outer_tuplet_proportions,\n",
      "    inner_tuplet_subdivision_count,\n",
      "    ):\n",
      "    r'''Makes nested tuplet.\n",
      "    '''\n",
      "\n",
      "    outer_tuplet = Tuplet.from_duration_and_ratio(\n",
      "        tuplet_duration, outer_tuplet_proportions)\n",
      "    inner_tuplet_proportions = inner_tuplet_subdivision_count * [1]\n",
      "    last_leaf = outer_tuplet.select_leaves()[-1]\n",
      "    right_logical_tie = inspect(last_leaf).get_logical_tie()\n",
      "    right_logical_tie.to_tuple\n",
      "    return outer_tuplet"
     ],
     "language": "python",
     "metadata": {},
     "outputs": [],
     "prompt_number": 7
    },
    {
     "cell_type": "code",
     "collapsed": false,
     "input": [
      "tuplet = make_nested_tuplet(Duration(1, 4), (1, 1), 5)\n",
      "staff = scoretools.RhythmicStaff([tuplet])\n",
      "show(staff)"
     ],
     "language": "python",
     "metadata": {},
     "outputs": [
      {
       "ename": "NameError",
       "evalue": "name 'inspect' is not defined",
       "output_type": "pyerr",
       "traceback": [
        "\u001b[1;31m---------------------------------------------------------------------------\u001b[0m\n\u001b[1;31mNameError\u001b[0m                                 Traceback (most recent call last)",
        "\u001b[1;32m<ipython-input-8-0b240ded8d37>\u001b[0m in \u001b[0;36m<module>\u001b[1;34m()\u001b[0m\n\u001b[1;32m----> 1\u001b[1;33m \u001b[0mtuplet\u001b[0m \u001b[1;33m=\u001b[0m \u001b[0mmake_nested_tuplet\u001b[0m\u001b[1;33m(\u001b[0m\u001b[0mDuration\u001b[0m\u001b[1;33m(\u001b[0m\u001b[1;36m1\u001b[0m\u001b[1;33m,\u001b[0m \u001b[1;36m4\u001b[0m\u001b[1;33m)\u001b[0m\u001b[1;33m,\u001b[0m \u001b[1;33m(\u001b[0m\u001b[1;36m1\u001b[0m\u001b[1;33m,\u001b[0m \u001b[1;36m1\u001b[0m\u001b[1;33m)\u001b[0m\u001b[1;33m,\u001b[0m \u001b[1;36m5\u001b[0m\u001b[1;33m)\u001b[0m\u001b[1;33m\u001b[0m\u001b[0m\n\u001b[0m\u001b[0;32m      2\u001b[0m \u001b[0mstaff\u001b[0m \u001b[1;33m=\u001b[0m \u001b[0mscoretools\u001b[0m\u001b[1;33m.\u001b[0m\u001b[0mRhythmicStaff\u001b[0m\u001b[1;33m(\u001b[0m\u001b[1;33m[\u001b[0m\u001b[0mtuplet\u001b[0m\u001b[1;33m]\u001b[0m\u001b[1;33m)\u001b[0m\u001b[1;33m\u001b[0m\u001b[0m\n\u001b[0;32m      3\u001b[0m \u001b[0mshow\u001b[0m\u001b[1;33m(\u001b[0m\u001b[0mstaff\u001b[0m\u001b[1;33m)\u001b[0m\u001b[1;33m\u001b[0m\u001b[0m\n",
        "\u001b[1;32m<ipython-input-7-b1108ea0abf3>\u001b[0m in \u001b[0;36mmake_nested_tuplet\u001b[1;34m(tuplet_duration, outer_tuplet_proportions, inner_tuplet_subdivision_count)\u001b[0m\n\u001b[0;32m     11\u001b[0m     \u001b[0minner_tuplet_proportions\u001b[0m \u001b[1;33m=\u001b[0m \u001b[0minner_tuplet_subdivision_count\u001b[0m \u001b[1;33m*\u001b[0m \u001b[1;33m[\u001b[0m\u001b[1;36m1\u001b[0m\u001b[1;33m]\u001b[0m\u001b[1;33m\u001b[0m\u001b[0m\n\u001b[0;32m     12\u001b[0m     \u001b[0mlast_leaf\u001b[0m \u001b[1;33m=\u001b[0m \u001b[0mouter_tuplet\u001b[0m\u001b[1;33m.\u001b[0m\u001b[0mselect_leaves\u001b[0m\u001b[1;33m(\u001b[0m\u001b[1;33m)\u001b[0m\u001b[1;33m[\u001b[0m\u001b[1;33m-\u001b[0m\u001b[1;36m1\u001b[0m\u001b[1;33m]\u001b[0m\u001b[1;33m\u001b[0m\u001b[0m\n\u001b[1;32m---> 13\u001b[1;33m     \u001b[0mright_logical_tie\u001b[0m \u001b[1;33m=\u001b[0m \u001b[0minspect\u001b[0m\u001b[1;33m(\u001b[0m\u001b[0mlast_leaf\u001b[0m\u001b[1;33m)\u001b[0m\u001b[1;33m.\u001b[0m\u001b[0mget_logical_tie\u001b[0m\u001b[1;33m(\u001b[0m\u001b[1;33m)\u001b[0m\u001b[1;33m\u001b[0m\u001b[0m\n\u001b[0m\u001b[0;32m     14\u001b[0m     \u001b[0mright_logical_tie\u001b[0m\u001b[1;33m.\u001b[0m\u001b[0mto_tuple\u001b[0m\u001b[1;33m\u001b[0m\u001b[0m\n\u001b[0;32m     15\u001b[0m     \u001b[1;32mreturn\u001b[0m \u001b[0mouter_tuplet\u001b[0m\u001b[1;33m\u001b[0m\u001b[0m\n",
        "\u001b[1;31mNameError\u001b[0m: name 'inspect' is not defined"
       ]
      }
     ],
     "prompt_number": 8
    }
   ],
   "metadata": {}
  }
 ]
}