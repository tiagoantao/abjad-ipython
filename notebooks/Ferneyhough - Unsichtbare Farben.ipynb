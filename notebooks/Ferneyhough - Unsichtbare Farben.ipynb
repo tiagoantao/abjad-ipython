{
 "metadata": {
  "name": "",
  "signature": "sha256:3f878860a1fd5c42fd0baaf070d21cd2667bc05ce56913753a0cd008694fecf3"
 },
 "nbformat": 3,
 "nbformat_minor": 0,
 "worksheets": [
  {
   "cells": [
    {
     "cell_type": "heading",
     "level": 2,
     "metadata": {},
     "source": [
      "Preamble"
     ]
    },
    {
     "cell_type": "markdown",
     "metadata": {},
     "source": [
      "This was taken and slightly adapted from the example section of the abjad documentation. I am not the author of the content (only the porting to noteook format). I have removed all diacritics for now."
     ]
    },
    {
     "cell_type": "code",
     "collapsed": false,
     "input": [
      "from abjad import *\n",
      "%run ../src/abjad-nb.py"
     ],
     "language": "python",
     "metadata": {},
     "outputs": [],
     "prompt_number": 1
    },
    {
     "cell_type": "markdown",
     "metadata": {},
     "source": [
      "We will use and extra import here"
     ]
    },
    {
     "cell_type": "code",
     "collapsed": false,
     "input": [
      "from abjad.demos import ferneyhough"
     ],
     "language": "python",
     "metadata": {},
     "outputs": [],
     "prompt_number": 2
    },
    {
     "cell_type": "heading",
     "level": 1,
     "metadata": {},
     "source": [
      "Ferneyhough: Unsichtbare Farben"
     ]
    },
    {
     "cell_type": "markdown",
     "metadata": {},
     "source": [
      "Mikhial Malt analyzes the rhythmic materials of Ferneyhough\u2019s Unsichtbare Farben in The OM Composer\u2019s Book 2.\n",
      "\n",
      "Malt explains that Ferneyhough used OpenMusic to create an \u201cexhaustive catalogue of rhythmic cells\u201d such that:\n",
      "\n",
      "1. They are subdivided into two pulses, with proportions from 1/1 to 1/11.\n",
      "2. The second pulse is subdivided successively by 1, 2, 3, 4, 5 and 6.\n",
      "\n",
      "Let\u2019s recreate Malt\u2019s results in Abjad."
     ]
    },
    {
     "cell_type": "heading",
     "level": 2,
     "metadata": {},
     "source": [
      "The proportions"
     ]
    },
    {
     "cell_type": "markdown",
     "metadata": {},
     "source": [
      "First we define the proportions"
     ]
    },
    {
     "cell_type": "code",
     "collapsed": false,
     "input": [
      "proportions = [(1, n) for n in range(1, 11 + 1)]\n",
      "proportions"
     ],
     "language": "python",
     "metadata": {},
     "outputs": [
      {
       "metadata": {},
       "output_type": "pyout",
       "prompt_number": 3,
       "text": [
        "[(1, 1),\n",
        " (1, 2),\n",
        " (1, 3),\n",
        " (1, 4),\n",
        " (1, 5),\n",
        " (1, 6),\n",
        " (1, 7),\n",
        " (1, 8),\n",
        " (1, 9),\n",
        " (1, 10),\n",
        " (1, 11)]"
       ]
      }
     ],
     "prompt_number": 3
    },
    {
     "cell_type": "heading",
     "level": 2,
     "metadata": {},
     "source": [
      "The transforms"
     ]
    },
    {
     "cell_type": "markdown",
     "metadata": {},
     "source": [
      "Next we\u2019ll show how to divide a quarter note into various ratios, and then divide the final logical tie of the resulting tuplet into yet another ratio:"
     ]
    },
    {
     "cell_type": "code",
     "collapsed": false,
     "input": [
      "def make_nested_tuplet(\n",
      "    tuplet_duration,\n",
      "    outer_tuplet_proportions,\n",
      "    inner_tuplet_subdivision_count,\n",
      "    ):\n",
      "    r'''Makes nested tuplet.\n",
      "    '''\n",
      "\n",
      "    outer_tuplet = Tuplet.from_duration_and_ratio(\n",
      "        tuplet_duration, outer_tuplet_proportions)\n",
      "    inner_tuplet_proportions = inner_tuplet_subdivision_count * [1]\n",
      "    last_leaf = outer_tuplet.select_leaves()[-1]\n",
      "    right_logical_tie = inspect_(last_leaf).get_logical_tie()\n",
      "    right_logical_tie.to_tuplet(inner_tuplet_proportions)\n",
      "    return outer_tuplet"
     ],
     "language": "python",
     "metadata": {},
     "outputs": [],
     "prompt_number": 9
    },
    {
     "cell_type": "code",
     "collapsed": false,
     "input": [
      "tuplet = make_nested_tuplet(Duration(1, 4), (1, 1), 5)\n",
      "staff = scoretools.Staff([tuplet], context_name='RhythmicStaff')\n",
      "show(staff)"
     ],
     "language": "python",
     "metadata": {},
     "outputs": [
      {
       "metadata": {},
       "output_type": "display_data",
       "png": "[encoded data removed]"
      }
     ],
     "prompt_number": 12
    },
    {
     "cell_type": "code",
     "collapsed": false,
     "input": [
      "tuplet = make_nested_tuplet(Duration(1, 4), (2, 1), 5)\n",
      "staff = scoretools.Staff([tuplet], context_name='RhythmicStaff')\n",
      "show(staff)"
     ],
     "language": "python",
     "metadata": {},
     "outputs": [
      {
       "metadata": {},
       "output_type": "display_data",
       "png": "[encoded data removed]"
      }
     ],
     "prompt_number": 14
    },
    {
     "cell_type": "code",
     "collapsed": false,
     "input": [
      "tuplet = make_nested_tuplet(Duration(1, 4), (3, 1), 5)\n",
      "staff = scoretools.Staff([tuplet], context_name='RhythmicStaff')\n",
      "show(staff)"
     ],
     "language": "python",
     "metadata": {},
     "outputs": [
      {
       "metadata": {},
       "output_type": "display_data",
       "png": "[encoded data removed]"
      }
     ],
     "prompt_number": 15
    },
    {
     "cell_type": "markdown",
     "metadata": {},
     "source": [
      "A logical tie is a selection of notes or chords connected by ties. It lets us talk about a notated rhythm of 5/16, for example, which can not be expressed with only a single leaf.\n",
      "\n",
      "Note how we can divide a tuplet whose outer proportions are 3/5, where the second logical tie requires two notes to express the 5/16 duration:"
     ]
    },
    {
     "cell_type": "code",
     "collapsed": false,
     "input": [
      "normal_tuplet = Tuplet.from_duration_and_ratio(Duration(1, 4), (3, 5))\n",
      "staff = scoretools.Staff([normal_tuplet], context_name='RhythmicStaff')\n",
      "show(staff)"
     ],
     "language": "python",
     "metadata": {},
     "outputs": [
      {
       "metadata": {},
       "output_type": "display_data",
       "png": "[encoded data removed]"
      }
     ],
     "prompt_number": 19
    },
    {
     "cell_type": "code",
     "collapsed": false,
     "input": [
      "subdivided_tuplet = make_nested_tuplet(Duration(1, 4), (3, 5), 3)\n",
      "staff = scoretools.Staff([subdivided_tuplet], context_name='RhythmicStaff')\n",
      "show(staff)"
     ],
     "language": "python",
     "metadata": {},
     "outputs": [
      {
       "metadata": {},
       "output_type": "display_data",
       "png": "[encoded data removed]"
      }
     ],
     "prompt_number": 20
    },
    {
     "cell_type": "heading",
     "level": 2,
     "metadata": {},
     "source": [
      "The rhythms"
     ]
    },
    {
     "cell_type": "markdown",
     "metadata": {},
     "source": [
      "Now that we know how to make the basic building block, let\u2019s make a lot of tuplets all at once.\n",
      "\n",
      "We\u2019ll set the duration of each tuplet equal to a quarter note:"
     ]
    },
    {
     "cell_type": "code",
     "collapsed": false,
     "input": [
      "duration = Fraction(1, 4)"
     ],
     "language": "python",
     "metadata": {},
     "outputs": [],
     "prompt_number": 21
    },
    {
     "cell_type": "markdown",
     "metadata": {},
     "source": [
      "And then we make one row of rhythms, with the last logical tie increasingly subdivided:"
     ]
    },
    {
     "cell_type": "code",
     "collapsed": false,
     "input": [
      "def make_row_of_nested_tuplets(\n",
      "    tuplet_duration,\n",
      "    outer_tuplet_proportions,\n",
      "    column_count,\n",
      "    ):\n",
      "    r'''Makes row of nested tuplets.\n",
      "    '''\n",
      "\n",
      "    assert 0 < column_count\n",
      "    row_of_nested_tuplets = []\n",
      "    for n in range(column_count):\n",
      "        inner_tuplet_subdivision_count = n + 1\n",
      "        nested_tuplet = make_nested_tuplet(\n",
      "            tuplet_duration,\n",
      "            outer_tuplet_proportions,\n",
      "            inner_tuplet_subdivision_count,\n",
      "            )\n",
      "        row_of_nested_tuplets.append(nested_tuplet)\n",
      "    return row_of_nested_tuplets"
     ],
     "language": "python",
     "metadata": {},
     "outputs": [],
     "prompt_number": 22
    },
    {
     "cell_type": "code",
     "collapsed": false,
     "input": [
      "tuplets = make_row_of_nested_tuplets(duration, (2, 1), 6)\n",
      "staff = scoretools.Staff(tuplets, context_name='RhythmicStaff')\n",
      "show(staff)"
     ],
     "language": "python",
     "metadata": {},
     "outputs": [
      {
       "metadata": {},
       "output_type": "display_data",
       "png": "[encoded data removed]"
      }
     ],
     "prompt_number": 29
    },
    {
     "cell_type": "markdown",
     "metadata": {},
     "source": [
      "If we can make one single row of rhythms, we can make many rows of rhythms. Let\u2019s try:"
     ]
    },
    {
     "cell_type": "code",
     "collapsed": false,
     "input": [
      "def make_rows_of_nested_tuplets(tuplet_duration, row_count, column_count):\n",
      "    r'''Makes rows of nested tuplets.\n",
      "    '''\n",
      "\n",
      "    assert 0 < row_count\n",
      "    rows_of_nested_tuplets = []\n",
      "    for n in range(row_count):\n",
      "        outer_tuplet_proportions = (1, n + 1)\n",
      "        row_of_nested_tuplets = make_row_of_nested_tuplets(\n",
      "            tuplet_duration, outer_tuplet_proportions, column_count)\n",
      "        rows_of_nested_tuplets.append(row_of_nested_tuplets)\n",
      "    return rows_of_nested_tuplets"
     ],
     "language": "python",
     "metadata": {},
     "outputs": [],
     "prompt_number": 30
    },
    {
     "cell_type": "code",
     "collapsed": false,
     "input": [
      "score = Score()\n",
      "for tuplet_row in make_rows_of_nested_tuplets(duration, 4, 6):\n",
      "    score.append(scoretools.Staff(tuplet_row, context_name='RhythmicStaff'))\n",
      "show(score)"
     ],
     "language": "python",
     "metadata": {},
     "outputs": [
      {
       "metadata": {},
       "output_type": "display_data",
       "png": "[encoded data removed]"
      }
     ],
     "prompt_number": 31
    },
    {
     "cell_type": "markdown",
     "metadata": {},
     "source": [
      "That\u2019s getting close to what we want, but the typography isn\u2019t as good as it could be."
     ]
    },
    {
     "cell_type": "heading",
     "level": 2,
     "metadata": {},
     "source": [
      "The score"
     ]
    },
    {
     "cell_type": "markdown",
     "metadata": {},
     "source": [
      "First we\u2019ll package up the logic for making the un-styled score into a single function:"
     ]
    },
    {
     "cell_type": "code",
     "collapsed": false,
     "input": [
      "def make_score(tuplet_duration, row_count, column_count):\n",
      "    r'''Makes score.\n",
      "    '''\n",
      "\n",
      "    score = Score()\n",
      "    rows_of_nested_tuplets = make_rows_of_nested_tuplets(\n",
      "        tuplet_duration, row_count, column_count)\n",
      "    for row_of_nested_tuplets in rows_of_nested_tuplets:\n",
      "        staff = scoretools.Staff(row_of_nested_tuplets, context_name='RhythmicStaff')\n",
      "        time_signature = indicatortools.TimeSignature((1, 4))\n",
      "        attach(time_signature, staff)\n",
      "        score.append(staff)\n",
      "    return score"
     ],
     "language": "python",
     "metadata": {},
     "outputs": [],
     "prompt_number": 34
    },
    {
     "cell_type": "code",
     "collapsed": false,
     "input": [
      "score = make_score(Duration(1, 4), 4, 6)\n",
      "show(score)"
     ],
     "language": "python",
     "metadata": {},
     "outputs": [
      {
       "metadata": {},
       "output_type": "display_data",
       "png": "[encoded data removed]"
      }
     ],
     "prompt_number": 35
    },
    {
     "cell_type": "markdown",
     "metadata": {},
     "source": [
      "Then we\u2019ll apply some formatting overrides to improve its overall appearance:"
     ]
    },
    {
     "cell_type": "code",
     "collapsed": false,
     "input": [
      "def configure_score(score):\n",
      "    r'''Configured score.\n",
      "    '''\n",
      "\n",
      "    moment = schemetools.SchemeMoment(1, 56)\n",
      "    set_(score).proportional_notation_duration = moment\n",
      "    set_(score).tuplet_full_length = True\n",
      "    override(score).bar_line.stencil = False\n",
      "    override(score).bar_number.transparent = True\n",
      "    override(score).spacing_spanner.uniform_stretching = True\n",
      "    override(score).spacing_spanner.strict_note_spacing = True\n",
      "    override(score).time_signature.stencil = False\n",
      "    override(score).tuplet_bracket.padding = 2\n",
      "    override(score).tuplet_bracket.staff_padding = 4\n",
      "    scheme = schemetools.Scheme('tuplet-number::calc-fraction-text')\n",
      "    override(score).tuplet_number.text = scheme"
     ],
     "language": "python",
     "metadata": {},
     "outputs": [],
     "prompt_number": 40
    },
    {
     "cell_type": "code",
     "collapsed": false,
     "input": [
      "configure_score(score)\n",
      "show(score)"
     ],
     "language": "python",
     "metadata": {},
     "outputs": [
      {
       "metadata": {},
       "output_type": "display_data",
       "png": "[encoded data removed]"
      }
     ],
     "prompt_number": 41
    },
    {
     "cell_type": "markdown",
     "metadata": {},
     "source": [
      "The proportional spacing makes the score much easier to read, but now the notation is much too big. We\u2019ll clean that up next."
     ]
    },
    {
     "cell_type": "heading",
     "level": 2,
     "metadata": {},
     "source": [
      "The LilyPond file"
     ]
    },
    {
     "cell_type": "markdown",
     "metadata": {},
     "source": [
      "Let\u2019s adjust the overall size of our output, and put everything together:"
     ]
    },
    {
     "cell_type": "code",
     "collapsed": false,
     "input": [
      "def make_lilypond_file(tuplet_duration, row_count, column_count):\n",
      "    r'''Makes LilyPond file.\n",
      "    '''\n",
      "\n",
      "    score = make_score(tuplet_duration, row_count, column_count)\n",
      "    configure_score(score)\n",
      "    lilypond_file = lilypondfiletools.make_basic_lilypond_file(score)\n",
      "    configure_lilypond_file(lilypond_file)\n",
      "    return lilypond_file"
     ],
     "language": "python",
     "metadata": {},
     "outputs": [],
     "prompt_number": 42
    },
    {
     "cell_type": "code",
     "collapsed": false,
     "input": [
      "def configure_lilypond_file(lilypond_file):\n",
      "    r'''Configures LilyPond file.\n",
      "    '''\n",
      "\n",
      "    lilypond_file.default_paper_size = '11x17', 'portrait'\n",
      "    lilypond_file.global_staff_size = 12\n",
      "    lilypond_file.layout_block.indent = 0\n",
      "    lilypond_file.layout_block.ragged_right = True\n",
      "    lilypond_file.paper_block.ragged_bottom = True\n",
      "    spacing_vector = layouttools.make_spacing_vector(0, 0, 8, 0)\n",
      "    lilypond_file.paper_block.system_system_spacing = spacing_vector"
     ],
     "language": "python",
     "metadata": {},
     "outputs": [],
     "prompt_number": 43
    },
    {
     "cell_type": "code",
     "collapsed": false,
     "input": [
      "lilypond_file = make_lilypond_file(Duration(1, 4), 11, 6)\n",
      "show(lilypond_file)"
     ],
     "language": "python",
     "metadata": {},
     "outputs": [
      {
       "metadata": {},
       "output_type": "display_data",
       "png": "[encoded data removed]"
      }
     ],
     "prompt_number": 44
    },
    {
     "cell_type": "code",
     "collapsed": false,
     "input": [],
     "language": "python",
     "metadata": {},
     "outputs": []
    }
   ],
   "metadata": {}
  }
 ]
}